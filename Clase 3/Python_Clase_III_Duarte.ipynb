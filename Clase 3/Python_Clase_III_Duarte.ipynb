{
  "cells": [
    {
      "cell_type": "markdown",
      "metadata": {
        "id": "xLQDRxVjnzVq"
      },
      "source": [
        "## **Python Clase III**\n",
        "\n",
        "### Fundamentos de Programación en Python\n",
        "### Expresiones regulares\n",
        "### Archivos\n",
        "### Clases\n",
        "### Modulos y Paquetes"
      ]
    },
    {
      "cell_type": "markdown",
      "metadata": {
        "id": "ByBAxwAznzVr"
      },
      "source": [
        "### **Fundamentos de Programación en Python**"
      ]
    },
    {
      "cell_type": "markdown",
      "metadata": {
        "id": "Mllw0XsSnzVr"
      },
      "source": [
        "#### **Introducción a la resolución de problemas y algoritmos en Python**\n",
        "En esta sección, exploraremos los fundamentos de la resolución de problemas y los algoritmos en Python. Abordaremos conceptos como la definición de problemas, la formulación de algoritmos para resolverlos y técnicas de optimización."
      ]
    },
    {
      "cell_type": "markdown",
      "metadata": {
        "id": "kcwcSuZDnzVr"
      },
      "source": [
        "#### **Definición de problemas y formulación de algoritmos**\n",
        "\n",
        "Definición de problemas: Un problema en programación es una tarea específica que necesita ser resuelta. Antes de comenzar a escribir código, es importante comprender claramente cuál es el problema que estamos tratando de resolver.\n",
        "\n",
        "Formulación de algoritmos: Un algoritmo es un conjunto de instrucciones paso a paso que describe cómo resolver un problema específico. Al formular un algoritmo, es fundamental descomponer el problema en pasos más pequeños y claros."
      ]
    },
    {
      "cell_type": "markdown",
      "metadata": {
        "id": "U958Tv_rnzVr"
      },
      "source": [
        "#### **Eficiencia de los algoritmos y técnicas de optimización**\n",
        "\n",
        "Eficiencia de los algoritmos: La eficiencia de un algoritmo se refiere a la cantidad de recursos (como tiempo y espacio) que requiere para resolver un problema. Es importante escribir algoritmos que sean eficientes en términos de uso de recursos, especialmente para problemas grandes o complejos.\n",
        "\n",
        "Técnicas de optimización: Existen varias técnicas de optimización que pueden mejorar la eficiencia de un algoritmo, como la recursión, la programación dinámica y la búsqueda binaria."
      ]
    },
    {
      "cell_type": "markdown",
      "metadata": {
        "id": "9UlNMFconzVr"
      },
      "source": [
        "##### Cálculo del factorial de un número"
      ]
    },
    {
      "cell_type": "code",
      "execution_count": null,
      "metadata": {
        "id": "mT08SrHBnzVr"
      },
      "outputs": [],
      "source": [
        "4! = 4*3*2*1\n",
        "5! = 5*4*3*2*1"
      ]
    },
    {
      "cell_type": "code",
      "source": [
        "def factorial(n):\n",
        "  multiplicacion = 1\n",
        "  for numero in range (1,n+1):\n",
        "    multiplicacion = multiplicacion * numero\n",
        "  return multiplicacion\n",
        "\n",
        "resultado = factorial(5)\n",
        "resultado"
      ],
      "metadata": {
        "colab": {
          "base_uri": "https://localhost:8080/"
        },
        "id": "9fIK4-7joy6o",
        "outputId": "e23a97dd-569c-4f19-c953-4a2138effb49"
      },
      "execution_count": null,
      "outputs": [
        {
          "output_type": "execute_result",
          "data": {
            "text/plain": [
              "120"
            ]
          },
          "metadata": {},
          "execution_count": 4
        }
      ]
    },
    {
      "cell_type": "code",
      "source": [
        "def factorial_recursiva(n):\n",
        "  result = 1\n",
        "  if n != 0:\n",
        "    result = n * factorial_recursiva(n-1)\n",
        "  return result\n"
      ],
      "metadata": {
        "colab": {
          "base_uri": "https://localhost:8080/"
        },
        "id": "bmgVReA9pYMA",
        "outputId": "3d65b731-a6fd-43d8-9e93-c7d3641397dc"
      },
      "execution_count": null,
      "outputs": [
        {
          "output_type": "execute_result",
          "data": {
            "text/plain": [
              "120"
            ]
          },
          "metadata": {},
          "execution_count": 3
        }
      ]
    },
    {
      "cell_type": "code",
      "source": [
        "3\n",
        "\n",
        "result = 3 * 2 * factorial_recursiva(1) * 1 * 1"
      ],
      "metadata": {
        "id": "KQGa0bdpqR9A"
      },
      "execution_count": null,
      "outputs": []
    },
    {
      "cell_type": "markdown",
      "metadata": {
        "id": "6XNlum5BnzVs"
      },
      "source": [
        "##### Implementación de la búsqueda lineal"
      ]
    },
    {
      "cell_type": "code",
      "execution_count": null,
      "metadata": {
        "id": "Nbhbg7RXnzVs"
      },
      "outputs": [],
      "source": [
        "lista = [3,6,8,2,7,1]\n",
        "\n",
        "\n"
      ]
    },
    {
      "cell_type": "code",
      "source": [
        "buscado = 2\n",
        "indice = 0\n",
        "contador = 0\n",
        "\n",
        "for numero in [3,6,8,2,7,1]:\n",
        "  if numero == buscado:\n",
        "    indice = contador\n",
        "  contador +=1\n",
        "\n",
        "print(indice)\n",
        "print(contador)\n"
      ],
      "metadata": {
        "colab": {
          "base_uri": "https://localhost:8080/"
        },
        "id": "zumYXe7qsFJx",
        "outputId": "2ae12c1d-3e14-47f2-f3f6-70240d747790"
      },
      "execution_count": null,
      "outputs": [
        {
          "output_type": "stream",
          "name": "stdout",
          "text": [
            "3\n",
            "6\n"
          ]
        }
      ]
    },
    {
      "cell_type": "code",
      "source": [
        "def busquedaLineal(lista, buscado):\n",
        "  index = 0\n",
        "  encontrado = False\n",
        "  while index < len(lista) and not encontrado:\n",
        "    if lista[index] == buscado:\n",
        "      encontrado = True\n",
        "    else:\n",
        "      index += 1\n",
        "  return index if encontrado else -1"
      ],
      "metadata": {
        "id": "LUq7pqg4stOj"
      },
      "execution_count": null,
      "outputs": []
    },
    {
      "cell_type": "markdown",
      "metadata": {
        "id": "FdtHTHpWnzVs"
      },
      "source": [
        "##### Ordenamiento de una lista"
      ]
    },
    {
      "cell_type": "code",
      "execution_count": null,
      "metadata": {
        "id": "9q0eEvRFnzVs"
      },
      "outputs": [],
      "source": [
        "lista.sort()\n"
      ]
    },
    {
      "cell_type": "code",
      "source": [
        "[3,6,8,2,7,1]"
      ],
      "metadata": {
        "id": "Q5cmsAA1uzzh"
      },
      "execution_count": null,
      "outputs": []
    },
    {
      "cell_type": "code",
      "source": [
        "[3,6,2,8,7,1] [3,6,2,7,8,1]  [3,6,2,7,1,8]"
      ],
      "metadata": {
        "id": "raYi4obKu0eq"
      },
      "execution_count": null,
      "outputs": []
    },
    {
      "cell_type": "code",
      "source": [
        "[3,6,2,7,1,8]"
      ],
      "metadata": {
        "id": "4J2Rv_spu0Z5"
      },
      "execution_count": null,
      "outputs": []
    },
    {
      "cell_type": "code",
      "source": [
        "[3,2,6,7,1,8] [3,2,6,1,7,8]"
      ],
      "metadata": {
        "id": "xZrcA1Byu0Vb"
      },
      "execution_count": null,
      "outputs": []
    },
    {
      "cell_type": "code",
      "source": [
        "[3,2,6,1,7,8]"
      ],
      "metadata": {
        "id": "bkqWXAUIvemT"
      },
      "execution_count": null,
      "outputs": []
    },
    {
      "cell_type": "code",
      "source": [
        "[2,3,6,1,7,8] [2,3,1,6,7,8]"
      ],
      "metadata": {
        "id": "TSw4DMQ0vfKv"
      },
      "execution_count": null,
      "outputs": []
    },
    {
      "cell_type": "code",
      "source": [
        "[2,3,1,6,7,8]"
      ],
      "metadata": {
        "id": "xLvggiv2vqBp"
      },
      "execution_count": null,
      "outputs": []
    },
    {
      "cell_type": "code",
      "source": [
        "[2,1,3,6,7,8]"
      ],
      "metadata": {
        "id": "20SrWCVZvqvr"
      },
      "execution_count": null,
      "outputs": []
    },
    {
      "cell_type": "code",
      "source": [
        "[1,2,3,6,7,8]"
      ],
      "metadata": {
        "id": "JOE-jFmsvxzZ"
      },
      "execution_count": null,
      "outputs": []
    },
    {
      "cell_type": "code",
      "source": [
        "def ordenamientoBurbujeo(lista):\n",
        "  n = len(lista)\n",
        "  for i in range(n):\n",
        "    for j in range(0,n-i-1):\n",
        "      if lista[j] > lista[j+1]:\n",
        "        temp = lista[j]\n",
        "        lista[j] = lista[j+1]\n",
        "        lista[j+1]=temp\n",
        "\n"
      ],
      "metadata": {
        "id": "hmsMeTh1wB83"
      },
      "execution_count": null,
      "outputs": []
    },
    {
      "cell_type": "code",
      "source": [
        "lista=[3,6,8,2,7,1]\n",
        "ordenamientoBurbujeo(lista)\n",
        "print(lista)\n"
      ],
      "metadata": {
        "colab": {
          "base_uri": "https://localhost:8080/"
        },
        "id": "ulqU7sLKwgU7",
        "outputId": "f8c3ffc8-de11-44de-8dad-bb9656bd5893"
      },
      "execution_count": null,
      "outputs": [
        {
          "output_type": "stream",
          "name": "stdout",
          "text": [
            "[1, 2, 3, 6, 7, 8]\n"
          ]
        }
      ]
    },
    {
      "cell_type": "markdown",
      "metadata": {
        "id": "deWvbal1nzVs"
      },
      "source": [
        "\n",
        "##### Implementación de la búsqueda binaria"
      ]
    },
    {
      "cell_type": "code",
      "execution_count": null,
      "metadata": {
        "collapsed": true,
        "id": "U15hmGrtnzVs"
      },
      "outputs": [],
      "source": [
        "def busquedaBinaria(lista, buscado):\n",
        "  limiteIzquierdo = 0\n",
        "  limiteDerecho = len(lista) -1\n",
        "  while limiteIzquierdo <= limiteDerecho:\n",
        "    medio = (limiteIzquierdo + limiteDerecho) // 2\n",
        "    if lista[medio] == buscado:\n",
        "      return medio\n",
        "    elif lista[medio] < buscado:\n",
        "      limiteIzquierdo = medio + 1\n",
        "    else:\n",
        "      limiteDerecho = medio -1\n",
        "  return -1\n",
        "\n"
      ]
    },
    {
      "cell_type": "markdown",
      "metadata": {
        "id": "wVbdi4nhnzVs"
      },
      "source": [
        "##### Validación de número en rango"
      ]
    },
    {
      "cell_type": "code",
      "execution_count": null,
      "metadata": {
        "id": "Uc7Pyi80nzVs"
      },
      "outputs": [],
      "source": [
        "def validarRangoNumero(numero, inicio, fin):\n",
        "  if inicio <= numero:\n",
        "    if numero <=fin:\n",
        "        esValido = True\n",
        "    else:\n",
        "        esValido =False\n",
        "  else:\n",
        "      esValido = False\n",
        "  return esValido\n"
      ]
    },
    {
      "cell_type": "code",
      "source": [
        "resultado = validarRangoNumero(10, 1, 10)\n",
        "resultado"
      ],
      "metadata": {
        "colab": {
          "base_uri": "https://localhost:8080/"
        },
        "id": "yeHZf5Z61s-q",
        "outputId": "0f33c874-fb76-4325-d083-581df1f32ffd"
      },
      "execution_count": null,
      "outputs": [
        {
          "output_type": "execute_result",
          "data": {
            "text/plain": [
              "True"
            ]
          },
          "metadata": {},
          "execution_count": 26
        }
      ]
    },
    {
      "cell_type": "markdown",
      "metadata": {
        "id": "o3rQt686nzVs"
      },
      "source": [
        "Para manejar años bisiestos en la validación de fechas, necesitamos verificar si el año es divisible por 4 pero no por 100, a menos que también sea divisible por 400. Aquí tienes una versión actualizada de la función de validación de fecha que incluye la verificación de años bisiestos:"
      ]
    },
    {
      "cell_type": "code",
      "source": [
        "fecha = 2024\n",
        "booleano = False\n",
        "if fecha %4 == 0 and (fecha %100 !=0 or fecha %400 == 0):\n",
        "  booleano =  True\n",
        "else:\n",
        "  booleano = False\n",
        "booleano"
      ],
      "metadata": {
        "colab": {
          "base_uri": "https://localhost:8080/"
        },
        "id": "sM5q01Rh4IkO",
        "outputId": "6aceff47-761a-4055-cd57-cd99f8376c61"
      },
      "execution_count": null,
      "outputs": [
        {
          "output_type": "execute_result",
          "data": {
            "text/plain": [
              "True"
            ]
          },
          "metadata": {},
          "execution_count": 31
        }
      ]
    },
    {
      "cell_type": "code",
      "source": [
        "año_bisiesto = (lambda año: True if año % 4 == 0 and (año % 100 != 0 or año % 400 == 0) else False)"
      ],
      "metadata": {
        "id": "i18b8hxx4Ih8"
      },
      "execution_count": null,
      "outputs": []
    },
    {
      "cell_type": "code",
      "source": [
        "año_bisiesto(2023)"
      ],
      "metadata": {
        "colab": {
          "base_uri": "https://localhost:8080/"
        },
        "id": "7T6ziRrD49Gl",
        "outputId": "a27e8de0-8c4b-4d3b-a459-1138b1bf25ad"
      },
      "execution_count": null,
      "outputs": [
        {
          "output_type": "execute_result",
          "data": {
            "text/plain": [
              "False"
            ]
          },
          "metadata": {},
          "execution_count": 34
        }
      ]
    },
    {
      "cell_type": "code",
      "source": [
        "def año_bisiestos(año):\n",
        "  if (año % 4 == 0 and (año % 100 != 0 or  año % 400 == 0)):\n",
        "   return True\n",
        "  else:\n",
        "    return False\n",
        "\n",
        "año_bisiestos(2024)"
      ],
      "metadata": {
        "id": "8gAzeDus4Ifk"
      },
      "execution_count": null,
      "outputs": []
    },
    {
      "cell_type": "code",
      "source": [
        "año = int(input(\"Ingresar el año: \"))\n",
        "def es_bisiesto(año):\n",
        "    if (año % 4 == 0 and (año % 100 != 0 or año % 400 == 0)):\n",
        "        return True\n",
        "    else:\n",
        "        return False\n",
        "if es_bisiesto(año):\n",
        "    print(f\"{año} es un año bisiesto.\")\n",
        "else:\n",
        "    print(f\"{año} no es un año bisiesto.\")"
      ],
      "metadata": {
        "id": "nwFkozEZ4Ic_"
      },
      "execution_count": null,
      "outputs": []
    },
    {
      "cell_type": "code",
      "source": [
        "def fbisiesto(año):\n",
        "    if (año % 4 == 0 and (año % 100 !=0 or año % 100 == 0 and año % 400 == 0 )):\n",
        "      return True\n",
        "    else:\n",
        "      return False\n",
        "año = fbisiesto(2024)\n",
        "print(año)"
      ],
      "metadata": {
        "id": "OX-o-Q_m4Iab"
      },
      "execution_count": null,
      "outputs": []
    },
    {
      "cell_type": "code",
      "source": [
        "def bisiesto(anio):\n",
        "  if (anio % 4 == 0 and (anio % 100 != 0 or anio % 400 == 0)):\n",
        "    return True\n",
        "  else:\n",
        "    return False\n",
        "anio = 2024\n",
        "print(bisiesto(anio))"
      ],
      "metadata": {
        "id": "3hFTCEsU4IXw"
      },
      "execution_count": null,
      "outputs": []
    },
    {
      "cell_type": "code",
      "source": [
        "def bisiesto(anio):\n",
        "    if (anio % 4 == 0 and (anio % 100 != 0 or anio % 400 == 0)):\n",
        "        return True\n",
        "    else:\n",
        "        return False"
      ],
      "metadata": {
        "id": "0gNW7EIP4ISh"
      },
      "execution_count": null,
      "outputs": []
    },
    {
      "cell_type": "markdown",
      "metadata": {
        "id": "TQOZ2IRanzVs"
      },
      "source": [
        "##### Validación de fecha correcta"
      ]
    },
    {
      "cell_type": "code",
      "execution_count": 1,
      "metadata": {
        "id": "Oa1Q_6-WnzVs"
      },
      "outputs": [],
      "source": [
        "def anioBisiesto(anio):\n",
        "  return anio%4 == 0 and (anio %100 !=0 or anio%400 == 0)\n",
        "\n",
        "def fechaValida(fecha):\n",
        "  esValida = True\n",
        "\n",
        "  partesFecha = fecha.split('/')\n",
        "  if len(partesFecha) != 3:\n",
        "    esValida = False\n",
        "\n",
        "  else:\n",
        "\n",
        "    dia = int(partesFecha[0])\n",
        "    mes = int(partesFecha[1])\n",
        "    anio = int(partesFecha[2])\n",
        "\n",
        "  if not (1 <= mes <= 12 and 1<= dia <= 31):\n",
        "    esValida = False\n",
        "\n",
        "  elif mes in [4,6,9,11] and dia > 30:\n",
        "    esValida = False\n",
        "\n",
        "  elif mes == 2:\n",
        "\n",
        "    if anioBisiesto(anio) and dia > 29:\n",
        "      esValida = False\n",
        "\n",
        "    elif not anioBisiesto(anio) and dia > 28:\n",
        "      esValida = False\n",
        "\n",
        "  return esValida\n"
      ]
    },
    {
      "cell_type": "code",
      "source": [
        "resultado = fechaValida('18/09/1880')\n",
        "resultado"
      ],
      "metadata": {
        "colab": {
          "base_uri": "https://localhost:8080/"
        },
        "id": "tW_8yo9U7qji",
        "outputId": "1af20c6f-5c40-4347-8f3d-d739836bd720"
      },
      "execution_count": null,
      "outputs": [
        {
          "output_type": "stream",
          "name": "stdout",
          "text": [
            "18 9 1880\n"
          ]
        },
        {
          "output_type": "execute_result",
          "data": {
            "text/plain": [
              "True"
            ]
          },
          "metadata": {},
          "execution_count": 41
        }
      ]
    },
    {
      "cell_type": "markdown",
      "metadata": {
        "id": "QUz4FD7WnzVt"
      },
      "source": [
        "##### Siguiente Dia: Definir una función que reciba un parametro de fecha y devuelva la siguiente fecha calendario a la recibida\n"
      ]
    },
    {
      "cell_type": "code",
      "execution_count": 2,
      "metadata": {
        "id": "rdfwMBLInzVt",
        "colab": {
          "base_uri": "https://localhost:8080/"
        },
        "outputId": "40ba99b2-c0af-4a32-b366-cb8a0937b130"
      },
      "outputs": [
        {
          "output_type": "stream",
          "name": "stdout",
          "text": [
            "Ingrese fecha dd/mm/aaaa: 19/12/2003\n",
            "20/12/2003\n"
          ]
        }
      ],
      "source": [
        "#TAREA\n",
        "def diasiguiente(fecha1):\n",
        "  if fechaValida(fecha1):\n",
        "    division = fecha1.split(\"/\")\n",
        "    dia = int(division[0])\n",
        "    mes = int(division[1])\n",
        "    aniio = int(division[2])\n",
        "\n",
        "    dia += 1\n",
        "    if (mes == 2 and anioBisiesto(aniio) and dia > 29) or (mes == 2 and not anioBisiesto(aniio) and dia > 28):\n",
        "        dia = 1\n",
        "        mes += 1\n",
        "    elif mes in [4, 6, 9, 11] and dia > 30:\n",
        "        dia = 1\n",
        "        mes += 1\n",
        "    elif dia > 31:\n",
        "        dia = 1\n",
        "        mes += 1\n",
        "    if mes > 12:\n",
        "        mes = 1\n",
        "        aniio += 1\n",
        "    return f\"{dia:02d}/{mes:02d}/{aniio}\"\n",
        "  else:\n",
        "    return \"Fecha no válida\"\n",
        "\n",
        "fechai = input(\"Ingrese fecha dd/mm/aaaa: \")\n",
        "print(diasiguiente(fechai))"
      ]
    },
    {
      "cell_type": "markdown",
      "metadata": {
        "id": "QyR_lH69nzVt"
      },
      "source": [
        "### Expresiones regulares\n",
        "\n",
        "Las expresiones regulares, también conocidas como regex, son secuencias de caracteres que definen un patrón de búsqueda. Estos patrones se utilizan para encontrar coincidencias dentro de cadenas de texto, realizar reemplazos, dividir cadenas en partes y más.\n",
        "\n",
        "#### Uso básico de expresiones regulares\n",
        "\n",
        "Para utilizar expresiones regulares en Python, primero necesitas importar el módulo re. Aquí tienes algunos métodos útiles que proporciona este módulo:\n",
        "\n",
        "**re.search(pattern, string):** Busca un patrón dentro de una cadena y devuelve el primer resultado que coincida.\n",
        "\n",
        "**re.match(pattern, string):** Busca un patrón al principio de una cadena y devuelve el primer resultado que coincida.\n",
        "\n",
        "**re.findall(pattern, string):** Encuentra todas las coincidencias de un patrón en una cadena y devuelve una lista.\n",
        "\n",
        "**re.sub(pattern, replacement, string):** Reemplaza todas las ocurrencias de un patrón en una cadena con otra cadena."
      ]
    },
    {
      "cell_type": "markdown",
      "metadata": {
        "id": "gwTkiovinzVt"
      },
      "source": [
        "#### Caracteres especiales en expresiones regulares\n",
        "\n",
        "Las expresiones regulares pueden contener caracteres especiales que tienen un significado especial en el patrón de búsqueda. Algunos de los caracteres especiales comunes son:\n"
      ]
    },
    {
      "cell_type": "markdown",
      "metadata": {
        "id": "5TCMHQh6nzVt"
      },
      "source": [
        "\".\": Coincide con cualquier carácter excepto un salto de línea."
      ]
    },
    {
      "cell_type": "code",
      "execution_count": null,
      "metadata": {
        "colab": {
          "base_uri": "https://localhost:8080/"
        },
        "id": "huuxyEZ2nzVt",
        "outputId": "49bce212-a719-4b9c-dd44-d88462b6ba4a"
      },
      "outputs": [
        {
          "output_type": "stream",
          "name": "stdout",
          "text": [
            "['gato']\n"
          ]
        }
      ],
      "source": [
        "import re\n",
        "\n",
        "texto = 'El gato esta en el patio gat'\n",
        "patron= r'gat.'\n",
        "resultado = re.findall(patron,texto)\n",
        "\n",
        "print(resultado)"
      ]
    },
    {
      "cell_type": "markdown",
      "metadata": {
        "id": "MRVUtX6LnzVt"
      },
      "source": [
        "\"^\": Coincide con el inicio de una cadena."
      ]
    },
    {
      "cell_type": "code",
      "execution_count": null,
      "metadata": {
        "colab": {
          "base_uri": "https://localhost:8080/"
        },
        "id": "b8ixxfusnzVt",
        "outputId": "46e893f1-e10c-40c3-bcc6-b76328fcbe6d"
      },
      "outputs": [
        {
          "output_type": "stream",
          "name": "stdout",
          "text": [
            "['El g']\n"
          ]
        }
      ],
      "source": [
        "import re\n",
        "\n",
        "texto = 'El gato esta en el patio gat'\n",
        "patron= r'^El g'\n",
        "resultado = re.findall(patron,texto)\n",
        "\n",
        "print(resultado)"
      ]
    },
    {
      "cell_type": "markdown",
      "metadata": {
        "id": "pSIZkW7PnzVt"
      },
      "source": [
        "\"$\": Coincide con el final de una cadena."
      ]
    },
    {
      "cell_type": "code",
      "execution_count": null,
      "metadata": {
        "colab": {
          "base_uri": "https://localhost:8080/"
        },
        "id": "nDK-f9ypnzVt",
        "outputId": "306e20b9-9229-490c-cf08-1cf3fc4fca3f"
      },
      "outputs": [
        {
          "output_type": "stream",
          "name": "stdout",
          "text": [
            "['gat']\n"
          ]
        }
      ],
      "source": [
        "import re\n",
        "\n",
        "texto = 'El gato esta en el patio gat'\n",
        "patron= r'gat$'\n",
        "resultado = re.findall(patron,texto)\n",
        "\n",
        "print(resultado)"
      ]
    },
    {
      "cell_type": "markdown",
      "metadata": {
        "id": "VXFT2XfDnzVt"
      },
      "source": [
        "\"*\": Coincide con cero o más repeticiones del patrón anterior."
      ]
    },
    {
      "cell_type": "code",
      "execution_count": null,
      "metadata": {
        "colab": {
          "base_uri": "https://localhost:8080/"
        },
        "id": "v0g6mlXWnzVt",
        "outputId": "c93a928d-d03f-478c-fedf-a3da70cff6fc"
      },
      "outputs": [
        {
          "output_type": "stream",
          "name": "stdout",
          "text": [
            "['gat', 'ga']\n"
          ]
        }
      ],
      "source": [
        "import re\n",
        "\n",
        "texto = 'El gato esta en el patio gar'\n",
        "patron= r'gat*'\n",
        "resultado = re.findall(patron,texto)\n",
        "\n",
        "print(resultado)"
      ]
    },
    {
      "cell_type": "markdown",
      "metadata": {
        "id": "hQPviz7znzVt"
      },
      "source": [
        "\"+\": Coincide con una o más repeticiones del patrón anterior."
      ]
    },
    {
      "cell_type": "code",
      "execution_count": null,
      "metadata": {
        "colab": {
          "base_uri": "https://localhost:8080/"
        },
        "id": "WSz4dXvPnzVt",
        "outputId": "354b2fdb-f92d-4d1f-f104-ac106b6d47e2"
      },
      "outputs": [
        {
          "output_type": "stream",
          "name": "stdout",
          "text": [
            "['gat', 'gat']\n"
          ]
        }
      ],
      "source": [
        "import re\n",
        "\n",
        "texto = 'El gato esta en el patio gatito'\n",
        "patron= r'gat+'\n",
        "resultado = re.findall(patron,texto)\n",
        "\n",
        "print(resultado)"
      ]
    },
    {
      "cell_type": "markdown",
      "metadata": {
        "id": "HLemYU5onzVt"
      },
      "source": [
        "\"?\": Coincide con cero o una repetición del patrón anterior."
      ]
    },
    {
      "cell_type": "code",
      "execution_count": null,
      "metadata": {
        "colab": {
          "base_uri": "https://localhost:8080/"
        },
        "id": "Xf4GYlTxnzVt",
        "outputId": "776bc795-f2cb-4da5-bb84-b1ceb5cb6205"
      },
      "outputs": [
        {
          "output_type": "stream",
          "name": "stdout",
          "text": [
            "['color', 'colour']\n"
          ]
        }
      ],
      "source": [
        "import re\n",
        "\n",
        "texto = 'color or colour'\n",
        "patron= r'colou?r'\n",
        "resultado = re.findall(patron,texto)\n",
        "\n",
        "print(resultado)"
      ]
    },
    {
      "cell_type": "markdown",
      "metadata": {
        "id": "dDpdBOYanzVt"
      },
      "source": [
        "\"\"\\\": Se utiliza para escapar caracteres especiales."
      ]
    },
    {
      "cell_type": "code",
      "execution_count": null,
      "metadata": {
        "colab": {
          "base_uri": "https://localhost:8080/"
        },
        "id": "sG0xqT3NnzVu",
        "outputId": "591c5c2d-b13b-4d34-f751-ceadf5d423ab"
      },
      "outputs": [
        {
          "output_type": "stream",
          "name": "stdout",
          "text": [
            "['.']\n"
          ]
        }
      ],
      "source": [
        "import re\n",
        "\n",
        "texto = 'Este es un punto final.'\n",
        "patron= r'\\.'\n",
        "resultado = re.findall(patron,texto)\n",
        "\n",
        "print(resultado)"
      ]
    },
    {
      "cell_type": "markdown",
      "metadata": {
        "id": "DGLi8Ag_nzVu"
      },
      "source": [
        "\\d: Coincide con cualquier dígito decimal. Es equivalente a [0-9]."
      ]
    },
    {
      "cell_type": "code",
      "execution_count": null,
      "metadata": {
        "colab": {
          "base_uri": "https://localhost:8080/"
        },
        "id": "oGRVFLlSnzVu",
        "outputId": "206027f1-3a61-40f4-baf1-1e4bb0a63480"
      },
      "outputs": [
        {
          "output_type": "stream",
          "name": "stdout",
          "text": [
            "['19-06-2024']\n"
          ]
        }
      ],
      "source": [
        "import re\n",
        "\n",
        "texto = 'La fecha de hoy es 19-06-2024'\n",
        "patron= r'\\d{2}-\\d{2}-\\d{4}'\n",
        "resultado = re.findall(patron,texto)\n",
        "\n",
        "print(resultado)"
      ]
    },
    {
      "cell_type": "markdown",
      "metadata": {
        "id": "3ZZwAhRCnzVu"
      },
      "source": [
        "\\D: Coincide con cualquier carácter que no sea un dígito decimal. Es equivalente a [^0-9]."
      ]
    },
    {
      "cell_type": "code",
      "execution_count": null,
      "metadata": {
        "colab": {
          "base_uri": "https://localhost:8080/"
        },
        "id": "tauqFHtAnzVu",
        "outputId": "bf126292-9fa5-4b95-cdb8-fca10b25b8f2"
      },
      "outputs": [
        {
          "output_type": "stream",
          "name": "stdout",
          "text": [
            "['La temperatura actual es ', '°C.']\n"
          ]
        }
      ],
      "source": [
        "import re\n",
        "\n",
        "texto = 'La temperatura actual es 25°C.'\n",
        "patron= r'\\D+'\n",
        "resultado = re.findall(patron,texto)\n",
        "\n",
        "print(resultado)"
      ]
    },
    {
      "cell_type": "markdown",
      "metadata": {
        "id": "cuNtOGDYnzVu"
      },
      "source": [
        "\\w: Coincide con cualquier carácter alfanumérico o guión bajo (_). Es equivalente a [a-zA-Z0-9_]."
      ]
    },
    {
      "cell_type": "code",
      "execution_count": null,
      "metadata": {
        "colab": {
          "base_uri": "https://localhost:8080/"
        },
        "id": "-Mqvciq0nzVu",
        "outputId": "1c90cfe0-71d4-444d-a530-ae75b373cb8a"
      },
      "outputs": [
        {
          "output_type": "stream",
          "name": "stdout",
          "text": [
            "['Python_123', 'Java', 'ho1a']\n"
          ]
        }
      ],
      "source": [
        "import re\n",
        "\n",
        "texto = 'Python_123 Java !!!!! ho1a'\n",
        "patron= r'\\w+'\n",
        "resultado = re.findall(patron,texto)\n",
        "\n",
        "print(resultado)"
      ]
    },
    {
      "cell_type": "markdown",
      "metadata": {
        "id": "klzNwKcenzVu"
      },
      "source": [
        "\\W: Coincide con cualquier carácter que no sea alfanumérico ni guión bajo. Es equivalente a [^a-zA-Z0-9_]."
      ]
    },
    {
      "cell_type": "code",
      "execution_count": null,
      "metadata": {
        "colab": {
          "base_uri": "https://localhost:8080/"
        },
        "id": "0XtTB7wJnzVu",
        "outputId": "11c782b4-6f71-48f1-80bb-9eb2aab7ce2b"
      },
      "outputs": [
        {
          "output_type": "stream",
          "name": "stdout",
          "text": [
            "[' ', ' !!!!! ']\n"
          ]
        }
      ],
      "source": [
        "import re\n",
        "\n",
        "texto = 'Python_123 Java !!!!! ho1a'\n",
        "patron= r'\\W+'\n",
        "resultado = re.findall(patron,texto)\n",
        "\n",
        "print(resultado)"
      ]
    },
    {
      "cell_type": "markdown",
      "metadata": {
        "id": "DYK9-TwTnzVu"
      },
      "source": [
        "\\b: Coincide con un límite de palabra (un espacio en blanco, una tabulación, un signo de puntuación, etc.) pero no consume ningún carácter."
      ]
    },
    {
      "cell_type": "code",
      "execution_count": null,
      "metadata": {
        "colab": {
          "base_uri": "https://localhost:8080/"
        },
        "id": "_70Mek-8nzVu",
        "outputId": "6c0d9944-a2a3-4b05-9f89-b0a0c6eccd01"
      },
      "outputs": [
        {
          "output_type": "stream",
          "name": "stdout",
          "text": [
            "['Este', 'es', 'un', 'ejemplo', 'de', 'frase']\n"
          ]
        }
      ],
      "source": [
        "import re\n",
        "\n",
        "texto = 'Este es un ejemplo de frase'\n",
        "patron= r'\\b\\w+\\b'\n",
        "resultado = re.findall(patron,texto)\n",
        "\n",
        "print(resultado)"
      ]
    },
    {
      "cell_type": "markdown",
      "metadata": {
        "id": "JuuGe0QpnzVu"
      },
      "source": [
        "\\B: Coincide con cualquier posición que no sea un límite de palabra."
      ]
    },
    {
      "cell_type": "code",
      "execution_count": null,
      "metadata": {
        "colab": {
          "base_uri": "https://localhost:8080/"
        },
        "id": "5l9ysdNYnzVu",
        "outputId": "4d57efcc-3447-4264-f902-f99d72b66aa2"
      },
      "outputs": [
        {
          "output_type": "stream",
          "name": "stdout",
          "text": [
            "['st', 'je', 'mp', 'ra']\n"
          ]
        }
      ],
      "source": [
        "import re\n",
        "\n",
        "texto = 'Este es un ejemplo de frase'\n",
        "patron= r'\\B\\w{2}\\B'\n",
        "resultado = re.findall(patron,texto)\n",
        "\n",
        "print(resultado)"
      ]
    },
    {
      "cell_type": "markdown",
      "metadata": {
        "id": "vGcHTfR8nzVu"
      },
      "source": [
        "##### Buscar direcciones de correo electrónico en un texto"
      ]
    },
    {
      "cell_type": "code",
      "execution_count": null,
      "metadata": {
        "colab": {
          "base_uri": "https://localhost:8080/"
        },
        "id": "oE2eozibnzVu",
        "outputId": "b61dea41-b30a-4708-accd-76e9c9d6a055"
      },
      "outputs": [
        {
          "output_type": "stream",
          "name": "stdout",
          "text": [
            "['test@example.com', 'hello@world.com.ar']\n"
          ]
        }
      ],
      "source": [
        "import re\n",
        "\n",
        "texto = \"Mi dirección de correo electrónico es test@example.com y otra es hello@world.com.ar\"\n",
        "patron=r'\\b[A-Za-z0-9._%+-]+@[A-za-z0-9.-]+\\.[A-Z|a-z]{2,}\\b'\n",
        "\n",
        "emails = re.findall(patron,texto)\n",
        "\n",
        "if len(emails) == 0:\n",
        "  print('No existe la cadena')\n",
        "else:\n",
        "  print(emails)\n"
      ]
    },
    {
      "cell_type": "markdown",
      "metadata": {
        "id": "PO4x5l6CnzVu"
      },
      "source": [
        "##### Validar un formato de dirección de correo electrónico"
      ]
    },
    {
      "cell_type": "code",
      "execution_count": null,
      "metadata": {
        "id": "7RhtsgFwnzVv"
      },
      "outputs": [],
      "source": [
        "#Tarea\n",
        "def mailvalido(email):\n",
        "  patron = r'\\b[A-Za-z0-9._%+-]+@[A-Za-z0-9.-]+\\.[A-Z|a-z]{2,}\\b'\n",
        "  if re.match(patron, email):\n",
        "    return True\n",
        "  else:\n",
        "    return False\n",
        "\n",
        "for email in emails:\n",
        "  if mailvalido(email):\n",
        "    print(f\"{email} valido\")\n",
        "  else:\n",
        "    print(f\"{email} no valido\")\n",
        "\n",
        "\n"
      ]
    },
    {
      "cell_type": "markdown",
      "metadata": {
        "id": "IWhw1x1unzVv"
      },
      "source": [
        "##### Extraer números de teléfono de un texto"
      ]
    },
    {
      "cell_type": "code",
      "execution_count": null,
      "metadata": {
        "colab": {
          "base_uri": "https://localhost:8080/"
        },
        "id": "HJQ2KKUgnzVv",
        "outputId": "314c1367-3cf2-4d5a-a48b-b2157e385c75"
      },
      "outputs": [
        {
          "output_type": "stream",
          "name": "stdout",
          "text": [
            "<re.Match object; span=(25, 37), match='11-1234-5678'>\n"
          ]
        }
      ],
      "source": [
        "import re\n",
        "\n",
        "texto = \"Mi número de teléfono es 11-1234-5678. Llámame\"\n",
        "\n",
        "patron = r'\\b\\d{2}-\\d{4}-\\d{4}\\b'\n",
        "telefonos = re.search(patron,texto)\n",
        "\n",
        "print(telefonos)"
      ]
    },
    {
      "cell_type": "markdown",
      "metadata": {
        "id": "KAeMLolfnzVv"
      },
      "source": [
        "##### Reemplazar palabras en un texto"
      ]
    },
    {
      "cell_type": "code",
      "execution_count": null,
      "metadata": {
        "colab": {
          "base_uri": "https://localhost:8080/"
        },
        "id": "EqcU3SpnnzVv",
        "outputId": "f4193f64-3e25-4260-fb2e-dd47e02daeba"
      },
      "outputs": [
        {
          "output_type": "stream",
          "name": "stdout",
          "text": [
            "Java es un lenguaje de programación\n"
          ]
        }
      ],
      "source": [
        "import re\n",
        "\n",
        "texto = 'Python es un lenguaje de programación'\n",
        "nuevoTexto = re.sub(r'^Python','Java',texto)\n",
        "\n",
        "print(nuevoTexto)"
      ]
    },
    {
      "cell_type": "markdown",
      "metadata": {
        "id": "p-mxDwOTnzVv"
      },
      "source": [
        "### Archivos"
      ]
    },
    {
      "cell_type": "markdown",
      "metadata": {
        "id": "MeCIgxPXnzVv"
      },
      "source": [
        "##### Abrir un archivo"
      ]
    },
    {
      "cell_type": "code",
      "execution_count": null,
      "metadata": {
        "id": "-wKW_7YlnzVv"
      },
      "outputs": [],
      "source": [
        "Lorem ipsum dolor sit amet, consectetur adipiscing elit. Suspendisse euismod gravida bibendum. Cras ante diam, iaculis a lacus sit amet, maximus molestie tellus. Vestibulum ante ipsum primis in faucibus orci luctus et ultrices posuere cubilia curae; Sed pretium, sem eget auctor laoreet, lacus diam mollis dolor, ut pharetra sapien arcu sit amet nunc. Etiam vel turpis vitae felis vestibulum porttitor. Vivamus vitae consequat nisi, a commodo enim. Pellentesque commodo at mauris quis commodo. Mauris maximus pretium massa, ac posuere lorem rhoncus at. Proin mattis, magna ac pretium dignissim, metus ante viverra ipsum, in rutrum sem nulla et leo. Etiam sed maximus lorem. Sed sit amet nibh eget purus bibendum aliquam ac quis mi. Phasellus nibh mauris, lobortis ut risus at, imperdiet lobortis orci. Proin hendrerit blandit lectus, eget euismod libero volutpat at. Aliquam erat volutpat. Integer pulvinar justo ut sem ullamcorper eleifend. Nunc accumsan porttitor lorem.\n",
        "\n",
        "Suspendisse dapibus vitae felis at ullamcorper. Aenean vehicula sem non nisl pellentesque fermentum. Suspendisse quis lorem volutpat, fermentum orci at, vulputate tortor. In euismod ut magna eget aliquam. Fusce non convallis purus. Donec placerat feugiat posuere. Vestibulum sit amet enim quis turpis tristique feugiat. Phasellus nec auctor nibh. Quisque iaculis fermentum ante, vel pharetra leo consectetur eu. Vestibulum turpis purus, suscipit vel commodo a, sollicitudin sed mi. In vestibulum nec sapien sit amet convallis. Aenean ut pretium nulla, sed lacinia est. Vivamus blandit nec diam quis faucibus.\n",
        "\n",
        "Duis volutpat nec quam in rhoncus. Proin eu velit rutrum, euismod mi et, porta ligula. Sed quis consequat magna. Maecenas eget quam eu nulla euismod auctor ac vitae ex. Donec vitae mi sit amet sapien finibus luctus sit amet non odio. Phasellus eget purus rhoncus, blandit diam sed, dapibus nulla. Sed et ultricies mauris, id rhoncus orci. Maecenas mattis, diam at dapibus convallis, lectus lorem convallis nibh, at accumsan enim neque at augue. Phasellus scelerisque felis non dui finibus gravida in ut lorem. Sed a sapien libero. Donec scelerisque fringilla facilisis. Praesent suscipit nulla quis sodales bibendum.\n",
        "\n",
        "Suspendisse mattis faucibus rhoncus. Nunc efficitur vulputate nunc. Nam tortor ligula, imperdiet eu ante id, laoreet egestas nunc. Nullam fringilla sodales urna, eget aliquet nulla vestibulum at. Nam maximus ut eros in sollicitudin. In consequat faucibus tristique. Sed luctus felis id dolor eleifend, eget ornare sem eleifend. Etiam facilisis tincidunt ante in suscipit. Donec luctus libero id dui egestas convallis. Curabitur vel facilisis elit. Phasellus ultricies tempus tincidunt.\n",
        "\n",
        "Donec pretium, nunc quis malesuada ultricies, ex ipsum luctus dolor, at congue massa arcu sed magna. Fusce justo felis, suscipit sit amet tellus non, congue pulvinar nisi. Nulla posuere fermentum turpis, et rutrum orci tincidunt rutrum. Aenean ornare lacus enim, vel sodales massa sollicitudin in. Aenean ultrices nec metus quis rutrum. Curabitur sed finibus neque. Etiam sit amet suscipit justo. Sed finibus elit eu tortor sollicitudin, et tincidunt ipsum vulputate. In gravida est nec ante consequat rutrum. Sed lacinia dolor in enim tempus, vitae pulvinar velit condimentum."
      ]
    },
    {
      "cell_type": "code",
      "execution_count": 3,
      "metadata": {
        "id": "Lk2Nme5RnzVv"
      },
      "outputs": [],
      "source": [
        "file = open(\"texto.txt\",mode='r')"
      ]
    },
    {
      "cell_type": "markdown",
      "metadata": {
        "id": "lAObWUtynzVv"
      },
      "source": [
        "##### Leer el contenido de un archivo"
      ]
    },
    {
      "cell_type": "code",
      "execution_count": 4,
      "metadata": {
        "colab": {
          "base_uri": "https://localhost:8080/"
        },
        "id": "v4UoRZ4lnzVv",
        "outputId": "f8219163-78c9-4aa5-d8e9-66eafa72fb9e"
      },
      "outputs": [
        {
          "output_type": "stream",
          "name": "stdout",
          "text": [
            "Lorem ipsum dolor sit amet, consectetur adipiscing elit. Suspendisse euismod gravida bibendum. Cras ante diam, iaculis a lacus sit amet, maximus molestie tellus. Vestibulum ante ipsum primis in faucibus orci luctus et ultrices posuere cubilia curae; Sed pretium, sem eget auctor laoreet, lacus diam mollis dolor, ut pharetra sapien arcu sit amet nunc. Etiam vel turpis vitae felis vestibulum porttitor. Vivamus vitae consequat nisi, a commodo enim. Pellentesque commodo at mauris quis commodo. Mauris maximus pretium massa, ac posuere lorem rhoncus at. Proin mattis, magna ac pretium dignissim, metus ante viverra ipsum, in rutrum sem nulla et leo. Etiam sed maximus lorem. Sed sit amet nibh eget purus bibendum aliquam ac quis mi. Phasellus nibh mauris, lobortis ut risus at, imperdiet lobortis orci. Proin hendrerit blandit lectus, eget euismod libero volutpat at. Aliquam erat volutpat. Integer pulvinar justo ut sem ullamcorper eleifend. Nunc accumsan porttitor lorem.\n",
            "\n",
            "Suspendisse dapibus vitae felis at ullamcorper. Aenean vehicula sem non nisl pellentesque fermentum. Suspendisse quis lorem volutpat, fermentum orci at, vulputate tortor. In euismod ut magna eget aliquam. Fusce non convallis purus. Donec placerat feugiat posuere. Vestibulum sit amet enim quis turpis tristique feugiat. Phasellus nec auctor nibh. Quisque iaculis fermentum ante, vel pharetra leo consectetur eu. Vestibulum turpis purus, suscipit vel commodo a, sollicitudin sed mi. In vestibulum nec sapien sit amet convallis. Aenean ut pretium nulla, sed lacinia est. Vivamus blandit nec diam quis faucibus.\n",
            "\n",
            "Duis volutpat nec quam in rhoncus. Proin eu velit rutrum, euismod mi et, porta ligula. Sed quis consequat magna. Maecenas eget quam eu nulla euismod auctor ac vitae ex. Donec vitae mi sit amet sapien finibus luctus sit amet non odio. Phasellus eget purus rhoncus, blandit diam sed, dapibus nulla. Sed et ultricies mauris, id rhoncus orci. Maecenas mattis, diam at dapibus convallis, lectus lorem convallis nibh, at accumsan enim neque at augue. Phasellus scelerisque felis non dui finibus gravida in ut lorem. Sed a sapien libero. Donec scelerisque fringilla facilisis. Praesent suscipit nulla quis sodales bibendum.\n",
            "\n",
            "Suspendisse mattis faucibus rhoncus. Nunc efficitur vulputate nunc. Nam tortor ligula, imperdiet eu ante id, laoreet egestas nunc. Nullam fringilla sodales urna, eget aliquet nulla vestibulum at. Nam maximus ut eros in sollicitudin. In consequat faucibus tristique. Sed luctus felis id dolor eleifend, eget ornare sem eleifend. Etiam facilisis tincidunt ante in suscipit. Donec luctus libero id dui egestas convallis. Curabitur vel facilisis elit. Phasellus ultricies tempus tincidunt.\n",
            "\n",
            "Donec pretium, nunc quis malesuada ultricies, ex ipsum luctus dolor, at congue massa arcu sed magna. Fusce justo felis, suscipit sit amet tellus non, congue pulvinar nisi. Nulla posuere fermentum turpis, et rutrum orci tincidunt rutrum. Aenean ornare lacus enim, vel sodales massa sollicitudin in. Aenean ultrices nec metus quis rutrum. Curabitur sed finibus neque. Etiam sit amet suscipit justo. Sed finibus elit eu tortor sollicitudin, et tincidunt ipsum vulputate. In gravida est nec ante consequat rutrum. Sed lacinia dolor in enim tempus, vitae pulvinar velit condimentum.\n"
          ]
        }
      ],
      "source": [
        "content = file.read()\n",
        "print(content)\n"
      ]
    },
    {
      "cell_type": "code",
      "source": [
        "file.close()"
      ],
      "metadata": {
        "id": "rMUyRls6MoEb"
      },
      "execution_count": 5,
      "outputs": []
    },
    {
      "cell_type": "markdown",
      "metadata": {
        "id": "TQwzcvvinzVv"
      },
      "source": [
        "##### Conteo de palabras en un archivo de texto"
      ]
    },
    {
      "cell_type": "code",
      "execution_count": null,
      "metadata": {
        "id": "Cgjokz6wnzVv"
      },
      "outputs": [],
      "source": [
        "def contar_palabras(archivo):\n",
        "  file = open(archivo,mode='r')\n",
        "  palabras = file.read().split()\n",
        "  frecuencia = {}\n",
        "  for palabra in palabras:\n",
        "    frecuencia[palabra] = frecuencia.get(palabra,0) +1\n",
        "  file.close()\n",
        "  return frecuencia\n",
        "\n",
        "resultado = contar_palabras('texto.txt')\n",
        "for palabra, frecuencia in resultado.items():\n",
        "  print(f'{palabra} : {frecuencia}')"
      ]
    },
    {
      "cell_type": "markdown",
      "metadata": {
        "id": "43PzuOtRnzVv"
      },
      "source": [
        "##### Escribir en un archivo"
      ]
    },
    {
      "cell_type": "code",
      "execution_count": null,
      "metadata": {
        "id": "LdxC_8FhnzVv"
      },
      "outputs": [],
      "source": [
        "file = open(\"nuevo_archivo.txt\",mode='w')\n",
        "file.write(\"Hola Mund1, soy un archivo\\n\")\n",
        "file.write(\"Este archivo fue generado con python 3.algo\\n\")\n",
        "file.close()\n"
      ]
    },
    {
      "cell_type": "code",
      "source": [
        "file = open(\"nuevo_archivo.txt\",mode='a')\n",
        "file.write(\"Esta es la linea extra del append\\n\")\n",
        "file.write(\"Esta es la linea extra del append\\n\")\n",
        "file.write(\"Esta es la linea extra del append\\n\")\n",
        "file.write(\"Esta es la linea extra del append\\n\")\n",
        "file.write(\"Esta es la linea extra del append\\n\")\n",
        "file.close()"
      ],
      "metadata": {
        "id": "dMH_JUsDOnzd"
      },
      "execution_count": null,
      "outputs": []
    },
    {
      "cell_type": "markdown",
      "metadata": {
        "id": "YCUpMWs_nzVv"
      },
      "source": [
        "##### Copiar contenido de un archivo a otro"
      ]
    },
    {
      "cell_type": "code",
      "execution_count": null,
      "metadata": {
        "id": "-lbjjE5EnzVw"
      },
      "outputs": [],
      "source": [
        "def copiar_archivo(origen,destino):\n",
        "  archivo_origen = open(origen, mode='r')\n",
        "  archivo_destino = open(destino, mode='w')\n",
        "  for linea in archivo_origen:\n",
        "    archivo_destino.write(linea)\n",
        "  archivo_origen.close()\n",
        "  archivo_destino.close()\n",
        "\n",
        "copiar_archivo(\"texto.txt\", \"textobis.txt\")"
      ]
    },
    {
      "cell_type": "markdown",
      "metadata": {
        "id": "-4Uizvm9nzVw"
      },
      "source": [
        "##### Cerrar un archivo"
      ]
    },
    {
      "cell_type": "code",
      "execution_count": null,
      "metadata": {
        "id": "mRFguZZUnzVw"
      },
      "outputs": [],
      "source": [
        "file.close()"
      ]
    },
    {
      "cell_type": "markdown",
      "metadata": {
        "id": "mFNGo6WknzVw"
      },
      "source": [
        "##### Filtro de líneas en un archivo:\n",
        "\n",
        "Definir una funcion que reciba 3 parametros (archivoOrigen, archivoDestino y palabra) y filtre y elimine del archivo la palabra que entra por parametro"
      ]
    },
    {
      "cell_type": "code",
      "execution_count": 11,
      "metadata": {
        "id": "QyFgxQafnzVw"
      },
      "outputs": [],
      "source": [
        "#Tarea\n",
        "def filtrar_palabra(archivoOrigen, archivoDestino, palabra):\n",
        "  origen = open(archivoOrigen, 'r')\n",
        "  destino = open(archivoDestino, 'w')\n",
        "  for linea in origen:\n",
        "      lineaf = linea.replace(palabra, ' ')\n",
        "      destino.write(lineaf)\n",
        "\n",
        "  origen.close()\n",
        "  destino.close()\n",
        "\n",
        "archivoOrigen = 'texto.txt'\n",
        "archivoDestino = 'destino.txt'\n",
        "palabra = 'Duis'\n",
        "\n",
        "filtrar_palabra(archivoOrigen, archivoDestino, palabra)\n",
        "\n"
      ]
    },
    {
      "cell_type": "markdown",
      "metadata": {
        "id": "N8P_3JfYnzVw"
      },
      "source": [
        "##### Creación de un programa de gestión de archivos"
      ]
    },
    {
      "cell_type": "code",
      "execution_count": null,
      "metadata": {
        "id": "5NqJis4dnzVw"
      },
      "outputs": [],
      "source": [
        "import os\n",
        "\n",
        "def crear_archivo(nombre):\n",
        "    file = open(nombre, 'w')\n",
        "    file.close()\n",
        "    print(f\"Se ha creado el archivo '{nombre}'.\")\n",
        "\n",
        "def leer_archivo(nombre):\n",
        "    file = open(nombre, 'r')\n",
        "    contenido = file.read()\n",
        "    file.close()\n",
        "    return contenido\n",
        "\n",
        "def actualizar_archivo(nombre, contenido):\n",
        "    file = open(nombre, 'a')\n",
        "    file.write(contenido)\n",
        "    file.close()\n",
        "\n",
        "def eliminar_archivo(nombre):\n",
        "    if os.path.exists(nombre):\n",
        "        os.remove(nombre)\n",
        "        print(f\"El archivo {nombre} ha sido eliminado.\")\n",
        "    else:\n",
        "        print(f\"El archivo {nombre} no existe.\")"
      ]
    },
    {
      "cell_type": "markdown",
      "metadata": {
        "id": "02tXbZ_GnzVw"
      },
      "source": [
        "### Programación Orientada a Objetos en Python\n",
        "\n",
        "#### Definición de Clases y Objetos\n",
        "\n",
        "**Concepto:**  \n",
        "Una clase es un plano o plantilla para crear objetos. Los objetos (o instancias) son instancias de clases, y representan entidades con atributos y métodos.\n"
      ]
    },
    {
      "cell_type": "markdown",
      "metadata": {
        "id": "P5FTJWRJnzVw"
      },
      "source": [
        "**Ejemplo básico de una clase:**"
      ]
    },
    {
      "cell_type": "code",
      "execution_count": null,
      "metadata": {
        "colab": {
          "base_uri": "https://localhost:8080/"
        },
        "id": "DOY7hxuunzVw",
        "outputId": "2ba3ae94-c1a0-49b6-dd14-fd8d71e27c1f"
      },
      "outputs": [
        {
          "output_type": "stream",
          "name": "stdout",
          "text": [
            "{'marca': 'Ford', 'modelo': 'F-100', 'año': 2010, 'ruedas': 4}\n"
          ]
        }
      ],
      "source": [
        "class Vehiculo:\n",
        "  def __init__(self, marca='Desconocida', modelo='Desconocido', anio = 0, ruedas =0):\n",
        "    self.marca = marca\n",
        "    self.modelo = modelo\n",
        "    self.anio = anio\n",
        "    self.ruedas = ruedas\n",
        "\n",
        "  def obtener_informacion(self):\n",
        "    return {'marca': self.marca,\n",
        "            'modelo':self.modelo,\n",
        "            'año':self.anio,\n",
        "            'ruedas':self.ruedas}\n",
        "\n",
        "vehiculo1 = Vehiculo('Ford','F-100',2010,4)\n",
        "print(vehiculo1.obtener_informacion())"
      ]
    },
    {
      "cell_type": "markdown",
      "metadata": {
        "id": "xmVTuujDnzVw"
      },
      "source": [
        "#### Atributos y Métodos\n",
        "\n",
        "**Atributos:**  \n",
        "Los atributos son variables que pertenecen a una clase.\n",
        "\n",
        "**Métodos:**  \n",
        "Los métodos son funciones definidas dentro de una clase."
      ]
    },
    {
      "cell_type": "markdown",
      "metadata": {
        "id": "4wMcio4RnzVw"
      },
      "source": [
        "**Ejemplo con más atributos y métodos:**"
      ]
    },
    {
      "cell_type": "code",
      "execution_count": null,
      "metadata": {
        "colab": {
          "base_uri": "https://localhost:8080/"
        },
        "id": "6iWhzqqynzVw",
        "outputId": "db287076-3b77-442e-edec-a53dc4c045a7"
      },
      "outputs": [
        {
          "output_type": "stream",
          "name": "stdout",
          "text": [
            "{'marca': 'Ford', 'modelo': 'F-100', 'año': 2010, 'ruedas': 4, 'velocidad': 0}\n",
            "{'velocidadAnteriror': 0, 'velocidadActual': 100}\n",
            "{'velocidadAnteriror': 100, 'velocidadActual': 50}\n"
          ]
        }
      ],
      "source": [
        "class Vehiculo:\n",
        "  def __init__(self, marca='Desconocida', modelo='Desconocido', anio = 0, ruedas =0):\n",
        "    self.marca = marca\n",
        "    self.modelo = modelo\n",
        "    self.anio = anio\n",
        "    self.ruedas = ruedas\n",
        "    self.velocidad = 0\n",
        "\n",
        "  def obtener_informacion(self):\n",
        "    return {'marca': self.marca,\n",
        "            'modelo':self.modelo,\n",
        "            'año':self.anio,\n",
        "            'ruedas':self.ruedas,\n",
        "            'velocidad':self.velocidad}\n",
        "  def acelerar(self, incremento):\n",
        "    velocidad_anterior = self.velocidad\n",
        "    self.velocidad += incremento\n",
        "    return {\n",
        "        'velocidadAnteriror':velocidad_anterior,\n",
        "        'velocidadActual':self.velocidad\n",
        "    }\n",
        "  def frenar(self, decremento):\n",
        "    velocidad_anterior = self.velocidad\n",
        "    self.velocidad -= decremento\n",
        "    return {\n",
        "        'velocidadAnteriror':velocidad_anterior,\n",
        "        'velocidadActual':self.velocidad\n",
        "    }\n",
        "\n",
        "\n",
        "vehiculo1 = Vehiculo('Ford','F-100',2010,4)\n",
        "print(vehiculo1.obtener_informacion())\n",
        "\n",
        "print(vehiculo1.acelerar(100))\n",
        "print(vehiculo1.frenar(50))\n"
      ]
    },
    {
      "cell_type": "markdown",
      "metadata": {
        "id": "1s5mXH71nzVw"
      },
      "source": [
        "#### Herencia\n",
        "\n",
        "**Concepto:**  \n",
        "La herencia permite crear una nueva clase basada en una clase existente. La nueva clase hereda atributos y métodos de la clase existente."
      ]
    },
    {
      "cell_type": "code",
      "execution_count": null,
      "metadata": {
        "colab": {
          "base_uri": "https://localhost:8080/"
        },
        "id": "I4i_5_FnnzVw",
        "outputId": "47e26b5b-0548-4ca2-d253-2205ed4d1d4e"
      },
      "outputs": [
        {
          "output_type": "stream",
          "name": "stdout",
          "text": [
            "{'marca': 'Ford', 'modelo': 'F100', 'año': 2010, 'ruedas': 4, 'velocidad': 0, 'Potencia': '120hp', 'tamanio_baul': '100l'}\n"
          ]
        }
      ],
      "source": [
        "class Auto(Vehiculo):\n",
        "  def __init__(self, marca, modelo, anio,ruedas, potencia, tamanio_baul):\n",
        "    super().__init__(marca, modelo, anio, ruedas=4)\n",
        "    self.potencia = potencia\n",
        "    self.tamanio_baul = tamanio_baul\n",
        "\n",
        "  def obtener_informacion(self):\n",
        "    info_basica = super().obtener_informacion()\n",
        "    info_basica['Potencia'] = self.potencia\n",
        "    info_basica['tamanio_baul'] = self.tamanio_baul\n",
        "    return info_basica\n",
        "\n",
        "auto1 = Auto('Ford','F100',2010, 4, '120hp', '100l')\n",
        "print(auto1.obtener_informacion())"
      ]
    },
    {
      "cell_type": "code",
      "source": [
        "class AutoDeportivo(Auto):\n",
        "  def __init__(self, marca, modelo, anio,ruedas, potencia, tamanio_baul, aerodinamia):\n",
        "    super().__init__(marca, modelo, anio, ruedas,potencia,tamanio_baul)\n",
        "    self.aerodinamia = aerodinamia\n",
        "\n",
        "  def obtener_informacion(self):\n",
        "    info_basica = super().obtener_informacion()\n",
        "    info_basica['Aerodinamia'] = self.aerodinamia\n",
        "    return info_basica\n",
        "\n",
        "autoDeportivo1 = AutoDeportivo('Ferrari','Spyder',2010, 4, '400hp', '20l',True)\n",
        "print(autoDeportivo1.obtener_informacion())"
      ],
      "metadata": {
        "colab": {
          "base_uri": "https://localhost:8080/"
        },
        "id": "5CVfziK2XGxn",
        "outputId": "f1ca9a4c-553d-41e6-942a-5c143fcb2ad7"
      },
      "execution_count": null,
      "outputs": [
        {
          "output_type": "stream",
          "name": "stdout",
          "text": [
            "{'marca': 'Ferrari', 'modelo': 'Spyder', 'año': 2010, 'ruedas': 4, 'velocidad': 0, 'Potencia': '400hp', 'tamanio_baul': '20l', 'Aerodinamia': True}\n"
          ]
        }
      ]
    },
    {
      "cell_type": "markdown",
      "metadata": {
        "id": "QAKGiaJPnzVw"
      },
      "source": [
        "### Módulos en Python\n",
        "\n",
        "Un módulo en Python es simplemente un archivo que contiene definiciones y declaraciones de Python. Estas pueden ser funciones, clases, variables o incluso código ejecutable. Los módulos se utilizan para organizar el código y hacerlo más fácil de entender y mantener."
      ]
    },
    {
      "cell_type": "markdown",
      "metadata": {
        "id": "HkruqyhXnzVw"
      },
      "source": [
        "#### Crear un Módulo"
      ]
    },
    {
      "cell_type": "code",
      "execution_count": null,
      "metadata": {
        "id": "95XkpF7inzVw"
      },
      "outputs": [],
      "source": [
        "from operacionesMatematicas import funcionSuma"
      ]
    },
    {
      "cell_type": "code",
      "execution_count": null,
      "metadata": {
        "colab": {
          "base_uri": "https://localhost:8080/"
        },
        "id": "hrs-v0--nzVw",
        "outputId": "485cfae4-1319-4494-87f7-3ea7f25a6bd7"
      },
      "outputs": [
        {
          "output_type": "stream",
          "name": "stdout",
          "text": [
            "3\n"
          ]
        }
      ],
      "source": [
        "resultado = funcionSuma(1,2)\n",
        "print(resultado)"
      ]
    },
    {
      "cell_type": "markdown",
      "source": [
        "Texto Modulo\n",
        "\n",
        "def funcionSuma(a,b):\n",
        "  return a+b"
      ],
      "metadata": {
        "id": "QGlEDdB7Znk5"
      }
    },
    {
      "cell_type": "code",
      "execution_count": null,
      "metadata": {
        "id": "Ay-iwGIKnzVw"
      },
      "outputs": [],
      "source": []
    },
    {
      "cell_type": "markdown",
      "metadata": {
        "id": "6KIg_w-ynzVw"
      },
      "source": [
        "#### Importar un Módulo"
      ]
    },
    {
      "cell_type": "code",
      "execution_count": null,
      "metadata": {
        "id": "7zOHBwdfnzVw"
      },
      "outputs": [],
      "source": [
        "from operacionesMatematicas import funcionSuma"
      ]
    },
    {
      "cell_type": "markdown",
      "metadata": {
        "id": "M1HSQ2uAnzVw"
      },
      "source": [
        "### Paquetes en Python\n",
        "\n",
        "#### Estructura de un Paquete\n",
        "La estructura básica de un paquete en Python se ve así:"
      ]
    },
    {
      "cell_type": "code",
      "source": [
        "from google.colab import drive\n",
        "drive.mount('/content/drive')"
      ],
      "metadata": {
        "id": "8vhYGKYaYG42"
      },
      "execution_count": null,
      "outputs": []
    },
    {
      "cell_type": "code",
      "execution_count": null,
      "metadata": {
        "id": "5i_wZxcynzVw"
      },
      "outputs": [],
      "source": [
        "vehiculos/\n",
        "    __init__.py\n",
        "    vehiculo.py\n",
        "    auto.py\n",
        "    auto_deportivo.py\n",
        "\n"
      ]
    },
    {
      "cell_type": "code",
      "execution_count": null,
      "metadata": {
        "id": "zOmFb-44nzVw"
      },
      "outputs": [],
      "source": []
    },
    {
      "cell_type": "markdown",
      "metadata": {
        "id": "Bn_qPINMnzVx"
      },
      "source": [
        "#### Importar un Paquete"
      ]
    },
    {
      "cell_type": "code",
      "execution_count": null,
      "metadata": {
        "id": "LqD8JQKVnzVx"
      },
      "outputs": [],
      "source": [
        "from vehiculos import Vehiculo, Auto, AutoDeportivo\n",
        "\n",
        "mi_vehiculo = Vehiculo('Toyota','Corolla',2020,4)"
      ]
    },
    {
      "cell_type": "code",
      "source": [
        "print(mi_vehiculo.obtener_informacion())"
      ],
      "metadata": {
        "colab": {
          "base_uri": "https://localhost:8080/"
        },
        "id": "2-mO_CmGbK_o",
        "outputId": "2d93592d-396d-4f1e-8462-ed548f789cc3"
      },
      "execution_count": null,
      "outputs": [
        {
          "output_type": "stream",
          "name": "stdout",
          "text": [
            "{'marca': 'Toyota', 'modelo': 'Corolla', 'año': 2020, 'ruedas': 4, 'velocidad': 0}\n"
          ]
        }
      ]
    }
  ],
  "metadata": {
    "kernelspec": {
      "display_name": "base",
      "language": "python",
      "name": "python3"
    },
    "language_info": {
      "codemirror_mode": {
        "name": "ipython",
        "version": 3
      },
      "file_extension": ".py",
      "mimetype": "text/x-python",
      "name": "python",
      "nbconvert_exporter": "python",
      "pygments_lexer": "ipython3",
      "version": "3.9.12"
    },
    "colab": {
      "provenance": []
    }
  },
  "nbformat": 4,
  "nbformat_minor": 0
}