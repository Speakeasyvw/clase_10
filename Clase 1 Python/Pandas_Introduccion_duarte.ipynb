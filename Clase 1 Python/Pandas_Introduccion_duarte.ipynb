{
  "cells": [
    {
      "cell_type": "markdown",
      "metadata": {
        "application/vnd.databricks.v1+cell": {
          "cellMetadata": {},
          "inputWidgets": {},
          "nuid": "521d633e-2aca-4fdc-8929-fd9eadcc0635",
          "showTitle": false,
          "title": ""
        },
        "id": "zkj3M3Y0jsNE"
      },
      "source": [
        "<p style=\"text-align: center;\"> <font size=\"6\">💘🐼🙏🐼 PANDAS 🐼🙏🐼💘 </font> </p>"
      ]
    },
    {
      "cell_type": "markdown",
      "metadata": {
        "application/vnd.databricks.v1+cell": {
          "cellMetadata": {},
          "inputWidgets": {},
          "nuid": "5b465e02-e2bd-4d72-9e72-e42120f6b161",
          "showTitle": false,
          "title": ""
        },
        "id": "TO2I9pqqjsNI"
      },
      "source": [
        "\n",
        "![](https://img-9gag-fun.9cache.com/photo/a61Q85R_460s.jpg)\n",
        "\n"
      ]
    },
    {
      "cell_type": "markdown",
      "metadata": {
        "application/vnd.databricks.v1+cell": {
          "cellMetadata": {},
          "inputWidgets": {},
          "nuid": "94841c39-6c41-4805-bf21-a5368771a140",
          "showTitle": false,
          "title": ""
        },
        "id": "MTzLIDdIjsNJ"
      },
      "source": [
        "https://pandas.pydata.org/docs/user_guide/index.html"
      ]
    },
    {
      "cell_type": "code",
      "execution_count": null,
      "metadata": {
        "application/vnd.databricks.v1+cell": {
          "cellMetadata": {},
          "inputWidgets": {},
          "nuid": "158a996a-4671-4fee-800a-7a6bbad7e789",
          "showTitle": false,
          "title": ""
        },
        "id": "aFfYuTLWjsNK"
      },
      "outputs": [],
      "source": [
        "!pip install pandas"
      ]
    },
    {
      "cell_type": "markdown",
      "metadata": {
        "application/vnd.databricks.v1+cell": {
          "cellMetadata": {},
          "inputWidgets": {},
          "nuid": "512e9aff-fc79-4ad4-8c01-0551d18928f5",
          "showTitle": false,
          "title": ""
        },
        "id": "PZ2irn86jsNL"
      },
      "source": [
        "🐼 Para tener acceso a Pandas hay que importar el módulo pandas. Por convención, se importa con el nombre **pd**"
      ]
    },
    {
      "cell_type": "code",
      "execution_count": null,
      "metadata": {
        "application/vnd.databricks.v1+cell": {
          "cellMetadata": {},
          "inputWidgets": {},
          "nuid": "74ed357e-9435-4b04-9ff0-d3d8f60f8aaa",
          "showTitle": false,
          "title": ""
        },
        "id": "z3hrwuMBjsNM"
      },
      "outputs": [],
      "source": [
        "import pandas as pd"
      ]
    },
    {
      "cell_type": "markdown",
      "metadata": {
        "application/vnd.databricks.v1+cell": {
          "cellMetadata": {},
          "inputWidgets": {},
          "nuid": "13a3c40f-1501-47e5-b5db-efba9cd31065",
          "showTitle": false,
          "title": ""
        },
        "id": "F1gmiDsejsNN"
      },
      "source": [
        "🐼 Crear un dataframe"
      ]
    },
    {
      "cell_type": "code",
      "execution_count": null,
      "metadata": {
        "application/vnd.databricks.v1+cell": {
          "cellMetadata": {},
          "inputWidgets": {},
          "nuid": "72f4d7fd-fe81-4094-bdfb-b93bf2a27218",
          "showTitle": false,
          "title": ""
        },
        "id": "S_7JueU4jsNO"
      },
      "outputs": [],
      "source": [
        "precio = [2000, 12300, 43245, 325423, 200]\n",
        "ncomuna = [2,5,3,4,5]\n",
        "ambientes = [2,1,4,5,6]"
      ]
    },
    {
      "cell_type": "code",
      "execution_count": null,
      "metadata": {
        "application/vnd.databricks.v1+cell": {
          "cellMetadata": {},
          "inputWidgets": {},
          "nuid": "4fc9d9c4-72d0-4cfe-a080-f1f781d8c849",
          "showTitle": false,
          "title": ""
        },
        "id": "gqX11slgjsNP"
      },
      "outputs": [],
      "source": []
    },
    {
      "cell_type": "code",
      "execution_count": null,
      "metadata": {
        "application/vnd.databricks.v1+cell": {
          "cellMetadata": {},
          "inputWidgets": {},
          "nuid": "f00acdd9-7fbd-47f2-b82a-f4d4bd8b94bf",
          "showTitle": false,
          "title": ""
        },
        "id": "PB3WKeQfjsNP"
      },
      "outputs": [],
      "source": [
        "tabla"
      ]
    },
    {
      "cell_type": "code",
      "execution_count": null,
      "metadata": {
        "application/vnd.databricks.v1+cell": {
          "cellMetadata": {},
          "inputWidgets": {},
          "nuid": "5dfe254f-ca8b-404e-bda5-166a86022b50",
          "showTitle": false,
          "title": ""
        },
        "id": "72UC4fRjjsNP"
      },
      "outputs": [],
      "source": []
    },
    {
      "cell_type": "code",
      "execution_count": null,
      "metadata": {
        "application/vnd.databricks.v1+cell": {
          "cellMetadata": {},
          "inputWidgets": {},
          "nuid": "e566cc2a-9aac-4acc-b39f-ab666bd39c12",
          "showTitle": false,
          "title": ""
        },
        "id": "UGH-m7_JjsNP"
      },
      "outputs": [],
      "source": []
    },
    {
      "cell_type": "markdown",
      "metadata": {
        "application/vnd.databricks.v1+cell": {
          "cellMetadata": {},
          "inputWidgets": {},
          "nuid": "d8a004d0-cba9-4b6f-9a72-a27ddf3f47f9",
          "showTitle": false,
          "title": ""
        },
        "id": "grYmFZ-sjsNQ"
      },
      "source": [
        "🐼 Con la instruccion anterior creamos un objeto llamado ``DataFrame`` en la variable ``df``. Este es el **núcleo** de Pandas y vamos a explorar muchas de las cosas que se puede hacer a lo largo de las clases."
      ]
    },
    {
      "cell_type": "code",
      "execution_count": null,
      "metadata": {
        "application/vnd.databricks.v1+cell": {
          "cellMetadata": {},
          "inputWidgets": {},
          "nuid": "e85a503d-a5af-4b77-bd97-fdfb3f6b63f2",
          "showTitle": false,
          "title": ""
        },
        "id": "jx0-q8gljsNQ"
      },
      "outputs": [],
      "source": []
    },
    {
      "cell_type": "code",
      "execution_count": null,
      "metadata": {
        "application/vnd.databricks.v1+cell": {
          "cellMetadata": {},
          "inputWidgets": {},
          "nuid": "b3ca10c4-5251-4f4e-b04e-b3813299d17b",
          "showTitle": false,
          "title": ""
        },
        "id": "jtj8_5JSjsNQ"
      },
      "outputs": [],
      "source": []
    },
    {
      "cell_type": "markdown",
      "metadata": {
        "application/vnd.databricks.v1+cell": {
          "cellMetadata": {},
          "inputWidgets": {},
          "nuid": "fbbd53df-bc0f-433f-a71a-cc020c3ad776",
          "showTitle": false,
          "title": ""
        },
        "id": "7tSbAiagjsNQ"
      },
      "source": [
        "🐼 Entonces, un DataFrame es una tabla de datos, tiene columnas y filas. En este caso particular, cada fila o registro del dataframe pertenece a una propiedad, teniendo como informacion:\n",
        "\n",
        "- Su precio\n",
        "- El numero de comuna a la que pertenece\n",
        "- El numero de ambientes que posee.\n",
        "\n",
        "🐼 Podemos ver que hay algunas partes clave de la salida:\n",
        "\n",
        "- En el lado izquierdo en negrita está el índice. Estos pueden considerarse como números de fila y como todo indice identifica a su fila de forma unica (no se repiten). En este caso simplemente el indice es un incremental.\n",
        "- En la parte superior están los nombres de las columnas. Cuando queramos referirnos a una columna en particular en nuestro DataFrame, usaremos estos nombres.\n",
        "- A continuación, los datos reales se organizan en el centro de la tabla. En su mayoría, estos son datos que nos importan."
      ]
    },
    {
      "cell_type": "markdown",
      "metadata": {
        "application/vnd.databricks.v1+cell": {
          "cellMetadata": {},
          "inputWidgets": {},
          "nuid": "cbfe8b8b-388d-43ad-a87d-3291ceeed419",
          "showTitle": false,
          "title": ""
        },
        "id": "NVzF8E59jsNR"
      },
      "source": [
        "🐼 Podemos imprimir la cantidad de filas y columnas que tiene el DataFrame"
      ]
    },
    {
      "cell_type": "code",
      "execution_count": null,
      "metadata": {
        "application/vnd.databricks.v1+cell": {
          "cellMetadata": {},
          "inputWidgets": {},
          "nuid": "b90b50a4-1533-4993-97bf-eb668ef44902",
          "showTitle": false,
          "title": ""
        },
        "id": "-sh7g0UkjsNR"
      },
      "outputs": [],
      "source": [
        "#Feliz Cumpleaños F C"
      ]
    },
    {
      "cell_type": "code",
      "execution_count": null,
      "metadata": {
        "application/vnd.databricks.v1+cell": {
          "cellMetadata": {},
          "inputWidgets": {},
          "nuid": "de4682c7-ffcf-4078-8854-75c99658a5d1",
          "showTitle": false,
          "title": ""
        },
        "id": "BjUrpAJEjsNR"
      },
      "outputs": [],
      "source": []
    },
    {
      "cell_type": "code",
      "execution_count": null,
      "metadata": {
        "application/vnd.databricks.v1+cell": {
          "cellMetadata": {},
          "inputWidgets": {},
          "nuid": "444ebe48-0edd-4ea5-8b76-bdd06c359a79",
          "showTitle": false,
          "title": ""
        },
        "id": "rMsBqMR_jsNR"
      },
      "outputs": [],
      "source": []
    },
    {
      "cell_type": "markdown",
      "metadata": {
        "application/vnd.databricks.v1+cell": {
          "cellMetadata": {},
          "inputWidgets": {},
          "nuid": "74dd5f72-da9e-4c93-a602-510fcbacc123",
          "showTitle": false,
          "title": ""
        },
        "id": "AWKQPZKjjsNS"
      },
      "source": [
        "Ponele voluntad..."
      ]
    },
    {
      "cell_type": "code",
      "execution_count": null,
      "metadata": {
        "application/vnd.databricks.v1+cell": {
          "cellMetadata": {},
          "inputWidgets": {},
          "nuid": "f7c5ac2a-d961-4a83-8655-947d4f9f8401",
          "showTitle": false,
          "title": ""
        },
        "id": "cXdqzGs4jsNS"
      },
      "outputs": [],
      "source": []
    },
    {
      "cell_type": "markdown",
      "metadata": {
        "application/vnd.databricks.v1+cell": {
          "cellMetadata": {},
          "inputWidgets": {},
          "nuid": "4f7bb9c4-8aa2-4f1d-81c2-faf49b7c5297",
          "showTitle": false,
          "title": ""
        },
        "id": "CFaAPviGjsNS"
      },
      "source": [
        "🐼 Podemos imprimir el nombre de las columnas"
      ]
    },
    {
      "cell_type": "code",
      "execution_count": null,
      "metadata": {
        "application/vnd.databricks.v1+cell": {
          "cellMetadata": {},
          "inputWidgets": {},
          "nuid": "8f811b34-4e14-47e9-88bf-362a58778777",
          "showTitle": false,
          "title": ""
        },
        "id": "ZlNTcSHtjsNS"
      },
      "outputs": [],
      "source": []
    },
    {
      "cell_type": "code",
      "execution_count": null,
      "metadata": {
        "application/vnd.databricks.v1+cell": {
          "cellMetadata": {},
          "inputWidgets": {},
          "nuid": "497854e0-7ba2-43c4-8350-3ab52f3af52f",
          "showTitle": false,
          "title": ""
        },
        "id": "mIY82wlpjsNS"
      },
      "outputs": [],
      "source": []
    },
    {
      "cell_type": "markdown",
      "metadata": {
        "application/vnd.databricks.v1+cell": {
          "cellMetadata": {},
          "inputWidgets": {},
          "nuid": "e13c912e-41db-4e7f-9411-ef27f885bd5a",
          "showTitle": false,
          "title": ""
        },
        "id": "rr8KD58ajsNS"
      },
      "source": [
        "🐼 Ejercicio: poner en mayusculas el nombre de todas las columnas"
      ]
    },
    {
      "cell_type": "code",
      "execution_count": null,
      "metadata": {
        "application/vnd.databricks.v1+cell": {
          "cellMetadata": {},
          "inputWidgets": {},
          "nuid": "2263b16b-4650-4e06-a157-0e7dcfb9ccad",
          "showTitle": false,
          "title": ""
        },
        "id": "rFhb-cWdjsNS"
      },
      "outputs": [],
      "source": []
    },
    {
      "cell_type": "code",
      "execution_count": null,
      "metadata": {
        "application/vnd.databricks.v1+cell": {
          "cellMetadata": {},
          "inputWidgets": {},
          "nuid": "5d446df1-48b3-4dbf-87c3-eb0d746b59e5",
          "showTitle": false,
          "title": ""
        },
        "id": "BI4xRndBjsNT"
      },
      "outputs": [],
      "source": []
    },
    {
      "cell_type": "code",
      "execution_count": null,
      "metadata": {
        "application/vnd.databricks.v1+cell": {
          "cellMetadata": {},
          "inputWidgets": {},
          "nuid": "6eb492e6-80a5-42d9-b92b-411b8e2314c4",
          "showTitle": false,
          "title": ""
        },
        "id": "RpxiofD0jsNT"
      },
      "outputs": [],
      "source": []
    },
    {
      "cell_type": "code",
      "execution_count": null,
      "metadata": {
        "application/vnd.databricks.v1+cell": {
          "cellMetadata": {},
          "inputWidgets": {},
          "nuid": "bc79f2c6-20ac-473b-bcdc-c19171ab9fc0",
          "showTitle": false,
          "title": ""
        },
        "id": "64OTZi_SjsNT"
      },
      "outputs": [],
      "source": []
    },
    {
      "cell_type": "code",
      "execution_count": null,
      "metadata": {
        "application/vnd.databricks.v1+cell": {
          "cellMetadata": {},
          "inputWidgets": {},
          "nuid": "2a8d8c59-466e-4362-a39c-31a2573ad8ed",
          "showTitle": false,
          "title": ""
        },
        "id": "XfvosFO6jsNT"
      },
      "outputs": [],
      "source": []
    },
    {
      "cell_type": "code",
      "execution_count": null,
      "metadata": {
        "application/vnd.databricks.v1+cell": {
          "cellMetadata": {},
          "inputWidgets": {},
          "nuid": "59c5bc23-0e26-446e-8902-e5850e5b732f",
          "showTitle": false,
          "title": ""
        },
        "id": "UBzBDQBQjsNU"
      },
      "outputs": [],
      "source": []
    },
    {
      "cell_type": "markdown",
      "metadata": {
        "application/vnd.databricks.v1+cell": {
          "cellMetadata": {},
          "inputWidgets": {},
          "nuid": "5432d66b-3d01-49d9-93d7-a8b2cb837d45",
          "showTitle": false,
          "title": ""
        },
        "id": "uCLUMWWWjsNU"
      },
      "source": [
        "🐼 Ejercicio: Modificar el indice por esta lista los siguientes elementos: [10, 9, 8, 7, \"pepe\"]"
      ]
    },
    {
      "cell_type": "code",
      "execution_count": null,
      "metadata": {
        "application/vnd.databricks.v1+cell": {
          "cellMetadata": {},
          "inputWidgets": {},
          "nuid": "0a824700-ef73-4919-a016-ee6ceb1d2cd8",
          "showTitle": false,
          "title": ""
        },
        "id": "5b9fUQSIjsNV"
      },
      "outputs": [],
      "source": []
    },
    {
      "cell_type": "code",
      "execution_count": null,
      "metadata": {
        "application/vnd.databricks.v1+cell": {
          "cellMetadata": {},
          "inputWidgets": {},
          "nuid": "6f9cd237-a46d-4a8e-8be5-86ff48c21407",
          "showTitle": false,
          "title": ""
        },
        "id": "o2mdowKhjsNV"
      },
      "outputs": [],
      "source": []
    },
    {
      "cell_type": "code",
      "execution_count": null,
      "metadata": {
        "application/vnd.databricks.v1+cell": {
          "cellMetadata": {},
          "inputWidgets": {},
          "nuid": "1021a644-63f2-4d35-86a2-7554e360f2ec",
          "showTitle": false,
          "title": ""
        },
        "id": "5Z0M4qgCjsNV"
      },
      "outputs": [],
      "source": []
    },
    {
      "cell_type": "markdown",
      "metadata": {
        "application/vnd.databricks.v1+cell": {
          "cellMetadata": {},
          "inputWidgets": {},
          "nuid": "4d757be3-5799-41c3-acf0-122529c5f912",
          "showTitle": false,
          "title": ""
        },
        "id": "40gjSxl0jsNV"
      },
      "source": [
        "🐼 Resetear el indice para que vuelva a estar entre 0 y n"
      ]
    },
    {
      "cell_type": "code",
      "execution_count": null,
      "metadata": {
        "application/vnd.databricks.v1+cell": {
          "cellMetadata": {},
          "inputWidgets": {},
          "nuid": "fffa0eba-101e-40bb-847a-7a719a5bc0a4",
          "showTitle": false,
          "title": ""
        },
        "id": "FsqgldMijsNV"
      },
      "outputs": [],
      "source": []
    },
    {
      "cell_type": "code",
      "execution_count": null,
      "metadata": {
        "application/vnd.databricks.v1+cell": {
          "cellMetadata": {},
          "inputWidgets": {},
          "nuid": "676c0077-43d4-4551-9878-8de698c08186",
          "showTitle": false,
          "title": ""
        },
        "id": "kZM_0G2pjsNV"
      },
      "outputs": [],
      "source": [
        "df"
      ]
    },
    {
      "cell_type": "markdown",
      "metadata": {
        "application/vnd.databricks.v1+cell": {
          "cellMetadata": {},
          "inputWidgets": {},
          "nuid": "7b800ac1-9850-4cae-8907-0f4bed4281f8",
          "showTitle": false,
          "title": ""
        },
        "id": "PmhRpaBVjsNa"
      },
      "source": [
        "🐼 Importar un csv que tengamos en nuestro local o en una direccion web"
      ]
    },
    {
      "cell_type": "code",
      "execution_count": null,
      "metadata": {
        "application/vnd.databricks.v1+cell": {
          "cellMetadata": {},
          "inputWidgets": {},
          "nuid": "6896472d-f028-4bd8-96e3-391f02fd2f37",
          "showTitle": false,
          "title": ""
        },
        "id": "9d9JwPPdjsNa"
      },
      "outputs": [],
      "source": []
    },
    {
      "cell_type": "code",
      "execution_count": null,
      "metadata": {
        "application/vnd.databricks.v1+cell": {
          "cellMetadata": {},
          "inputWidgets": {},
          "nuid": "0b8bf5f6-5ccf-4791-9a55-f899b1ad7d31",
          "showTitle": false,
          "title": ""
        },
        "id": "dwo1s7S7jsNa"
      },
      "outputs": [],
      "source": []
    },
    {
      "cell_type": "markdown",
      "metadata": {
        "application/vnd.databricks.v1+cell": {
          "cellMetadata": {},
          "inputWidgets": {},
          "nuid": "ab01f5ac-bda4-48f8-a5e2-86dfd312340c",
          "showTitle": false,
          "title": ""
        },
        "id": "Ac6Xpp9RjsNa"
      },
      "source": [
        "🐼 Supongamos que solo me interesa la columna dolares"
      ]
    },
    {
      "cell_type": "code",
      "execution_count": null,
      "metadata": {
        "application/vnd.databricks.v1+cell": {
          "cellMetadata": {},
          "inputWidgets": {},
          "nuid": "1e463ace-989e-4643-ba86-49fc7d2f9ed0",
          "showTitle": false,
          "title": ""
        },
        "id": "Fw6YLTr2jsNb"
      },
      "outputs": [],
      "source": []
    },
    {
      "cell_type": "code",
      "execution_count": null,
      "metadata": {
        "application/vnd.databricks.v1+cell": {
          "cellMetadata": {},
          "inputWidgets": {},
          "nuid": "378a7e73-ca03-4e39-8bff-2878c391a8d4",
          "showTitle": false,
          "title": ""
        },
        "id": "1OuhQpcljsNb"
      },
      "outputs": [],
      "source": []
    },
    {
      "cell_type": "markdown",
      "metadata": {
        "application/vnd.databricks.v1+cell": {
          "cellMetadata": {},
          "inputWidgets": {},
          "nuid": "ea4dbeba-0158-408e-9db6-427a0d12eb55",
          "showTitle": false,
          "title": ""
        },
        "id": "lauhgtC3jsNb"
      },
      "source": [
        "Un objeto ``Series`` es un objeto unidimensional, **similar a una columna en una tabla**.\n",
        "\n",
        "Un objeto de tipo Series tiene dos componentes principales:\n",
        "\n",
        "- Un indice, que contiene valores unicos y se usa para acceder a los valores. Por defecto, cada elemento recibirá una etiqueta que va de 0 a N-1, donde N es la longitud/tamaño de la colección.\n",
        "- Los valores.\n",
        "\n",
        "**Un conjunto de Series forman un DataFrame**\n",
        "\n",
        "Como nos sentimos mas comodos con los DataFrame que con las Series, podemos pasar le obejeto ``Series`` a ``DataFrame``"
      ]
    },
    {
      "cell_type": "code",
      "execution_count": null,
      "metadata": {
        "application/vnd.databricks.v1+cell": {
          "cellMetadata": {},
          "inputWidgets": {},
          "nuid": "32bd966f-c2c0-493b-a493-a46a52f42ef4",
          "showTitle": false,
          "title": ""
        },
        "id": "FoQYslM0jsNb"
      },
      "outputs": [],
      "source": []
    },
    {
      "cell_type": "code",
      "execution_count": null,
      "metadata": {
        "application/vnd.databricks.v1+cell": {
          "cellMetadata": {},
          "inputWidgets": {},
          "nuid": "2be07a17-7b01-4d45-b70d-304aa8752d4e",
          "showTitle": false,
          "title": ""
        },
        "id": "Rboj9yFBjsNc"
      },
      "outputs": [],
      "source": []
    },
    {
      "cell_type": "code",
      "execution_count": null,
      "metadata": {
        "application/vnd.databricks.v1+cell": {
          "cellMetadata": {},
          "inputWidgets": {},
          "nuid": "a11c2623-1262-42df-a980-ea35420f62fb",
          "showTitle": false,
          "title": ""
        },
        "id": "TZEhE-hXjsNc"
      },
      "outputs": [],
      "source": []
    },
    {
      "cell_type": "markdown",
      "metadata": {
        "application/vnd.databricks.v1+cell": {
          "cellMetadata": {},
          "inputWidgets": {},
          "nuid": "77c79a62-88c7-4064-868f-cf866b953b4b",
          "showTitle": false,
          "title": ""
        },
        "id": "mfc-dxZdjsNc"
      },
      "source": [
        "##### 🐼 Imprimir los primeros 5 registros/filas"
      ]
    },
    {
      "cell_type": "code",
      "execution_count": null,
      "metadata": {
        "application/vnd.databricks.v1+cell": {
          "cellMetadata": {},
          "inputWidgets": {},
          "nuid": "9442f874-4ce4-4edc-9ac3-e2e20340aa4a",
          "showTitle": false,
          "title": ""
        },
        "id": "2mAzgAnEjsNd"
      },
      "outputs": [],
      "source": []
    },
    {
      "cell_type": "code",
      "execution_count": null,
      "metadata": {
        "application/vnd.databricks.v1+cell": {
          "cellMetadata": {},
          "inputWidgets": {},
          "nuid": "eb33d434-808b-489f-931e-d70cc7ca2d27",
          "showTitle": false,
          "title": ""
        },
        "id": "M9F3qDfsjsNd"
      },
      "outputs": [],
      "source": []
    },
    {
      "cell_type": "code",
      "execution_count": null,
      "metadata": {
        "application/vnd.databricks.v1+cell": {
          "cellMetadata": {},
          "inputWidgets": {},
          "nuid": "e377d789-f67c-4d2e-8b9d-a4e53540b9d9",
          "showTitle": false,
          "title": ""
        },
        "id": "mzom7H2DjsNd"
      },
      "outputs": [],
      "source": []
    },
    {
      "cell_type": "markdown",
      "metadata": {
        "application/vnd.databricks.v1+cell": {
          "cellMetadata": {},
          "inputWidgets": {},
          "nuid": "8da3d55c-7f91-4960-bfd4-d508de88b0ba",
          "showTitle": false,
          "title": ""
        },
        "id": "Cnt7br6DjsNd"
      },
      "source": [
        "🐼 Imprimir en pantalla la cantidad de M2 que tiene el primer registro"
      ]
    },
    {
      "cell_type": "code",
      "execution_count": null,
      "metadata": {
        "application/vnd.databricks.v1+cell": {
          "cellMetadata": {},
          "inputWidgets": {},
          "nuid": "3ceb8568-c519-4a56-811a-1c05adec9fb9",
          "showTitle": false,
          "title": ""
        },
        "id": "NEkVe1y7jsNe"
      },
      "outputs": [],
      "source": []
    },
    {
      "cell_type": "markdown",
      "metadata": {
        "application/vnd.databricks.v1+cell": {
          "cellMetadata": {},
          "inputWidgets": {},
          "nuid": "e39eb76a-974b-42f4-8fab-e83a37fe7b49",
          "showTitle": false,
          "title": ""
        },
        "id": "LHzWZ4_IjsNe"
      },
      "source": [
        "Le ponemos un poco de onda:"
      ]
    },
    {
      "cell_type": "code",
      "execution_count": null,
      "metadata": {
        "application/vnd.databricks.v1+cell": {
          "cellMetadata": {},
          "inputWidgets": {},
          "nuid": "1767480d-5b91-4468-9f87-4240567cac9c",
          "showTitle": false,
          "title": ""
        },
        "id": "R4gvprzsjsNe"
      },
      "outputs": [],
      "source": []
    },
    {
      "cell_type": "code",
      "execution_count": null,
      "metadata": {
        "application/vnd.databricks.v1+cell": {
          "cellMetadata": {},
          "inputWidgets": {},
          "nuid": "83f4b3f9-0c7b-4375-a0a7-925f236fc522",
          "showTitle": false,
          "title": ""
        },
        "id": "fYEQG6hOjsNf"
      },
      "outputs": [],
      "source": []
    },
    {
      "cell_type": "markdown",
      "metadata": {
        "application/vnd.databricks.v1+cell": {
          "cellMetadata": {},
          "inputWidgets": {},
          "nuid": "fb2e4163-3db1-46e4-91bf-9b7a614cd4c4",
          "showTitle": false,
          "title": ""
        },
        "id": "DrHydmHzjsNf"
      },
      "source": [
        "🐼 Imprimir los ultimos 5 registros"
      ]
    },
    {
      "cell_type": "code",
      "execution_count": null,
      "metadata": {
        "application/vnd.databricks.v1+cell": {
          "cellMetadata": {},
          "inputWidgets": {},
          "nuid": "8f91472b-e9e0-4e3e-b6e3-7def0c15b6ba",
          "showTitle": false,
          "title": ""
        },
        "id": "pIAp6cKqjsNf"
      },
      "outputs": [],
      "source": []
    },
    {
      "cell_type": "markdown",
      "metadata": {
        "application/vnd.databricks.v1+cell": {
          "cellMetadata": {},
          "inputWidgets": {},
          "nuid": "8d26611f-09fd-4864-b19c-9c99a42c2098",
          "showTitle": false,
          "title": ""
        },
        "id": "7jyQACHijsNg"
      },
      "source": [
        "🐼 Calcular el promedio de la columna M2, sin utilizar funciones/metodos especificos\n"
      ]
    },
    {
      "cell_type": "code",
      "execution_count": null,
      "metadata": {
        "application/vnd.databricks.v1+cell": {
          "cellMetadata": {},
          "inputWidgets": {},
          "nuid": "20be387f-353b-482a-b84f-3d04d10d188b",
          "showTitle": false,
          "title": ""
        },
        "id": "ygePmAXkjsNg"
      },
      "outputs": [],
      "source": []
    },
    {
      "cell_type": "code",
      "execution_count": null,
      "metadata": {
        "application/vnd.databricks.v1+cell": {
          "cellMetadata": {},
          "inputWidgets": {},
          "nuid": "f12eeb7b-f6a9-45c5-b33e-c3ed9a058f0a",
          "showTitle": false,
          "title": ""
        },
        "id": "mkqCUFYhjsNg"
      },
      "outputs": [],
      "source": []
    },
    {
      "cell_type": "code",
      "execution_count": null,
      "metadata": {
        "application/vnd.databricks.v1+cell": {
          "cellMetadata": {},
          "inputWidgets": {},
          "nuid": "8627ecce-fa65-43df-acb9-070537ad9485",
          "showTitle": false,
          "title": ""
        },
        "id": "OSaBBa2BjsNg"
      },
      "outputs": [],
      "source": []
    },
    {
      "cell_type": "code",
      "execution_count": null,
      "metadata": {
        "application/vnd.databricks.v1+cell": {
          "cellMetadata": {},
          "inputWidgets": {},
          "nuid": "ab0bd1af-c231-4a9b-8fa6-61e28e3d0cc6",
          "showTitle": false,
          "title": ""
        },
        "id": "hi1aM7U7jsNg"
      },
      "outputs": [],
      "source": []
    },
    {
      "cell_type": "markdown",
      "metadata": {
        "application/vnd.databricks.v1+cell": {
          "cellMetadata": {},
          "inputWidgets": {},
          "nuid": "b6f3af36-4bab-4843-be5a-b9ec93760996",
          "showTitle": false,
          "title": ""
        },
        "id": "SLjhMWTsjsNg"
      },
      "source": [
        "🐼 Crear una nueva columna llamada PAIS y rellenarla con \"Argentina\""
      ]
    },
    {
      "cell_type": "code",
      "execution_count": null,
      "metadata": {
        "application/vnd.databricks.v1+cell": {
          "cellMetadata": {},
          "inputWidgets": {},
          "nuid": "7eb6f0c2-3f19-439f-ba74-c980cd8bace8",
          "showTitle": false,
          "title": ""
        },
        "id": "1c2OZbeLjsNh"
      },
      "outputs": [],
      "source": []
    },
    {
      "cell_type": "code",
      "execution_count": null,
      "metadata": {
        "application/vnd.databricks.v1+cell": {
          "cellMetadata": {},
          "inputWidgets": {},
          "nuid": "2755e614-9f74-44e7-8f3c-69b054cd1f4b",
          "showTitle": false,
          "title": ""
        },
        "id": "nRYT4M5cjsNh"
      },
      "outputs": [],
      "source": []
    },
    {
      "cell_type": "markdown",
      "metadata": {
        "application/vnd.databricks.v1+cell": {
          "cellMetadata": {},
          "inputWidgets": {},
          "nuid": "c8b07136-a881-4260-964b-e86e46ca5ea8",
          "showTitle": false,
          "title": ""
        },
        "id": "KvUlvDlMjsNh"
      },
      "source": [
        "🐼 Utiliza .info() para tener informacion muy importante y util del dataframe"
      ]
    },
    {
      "cell_type": "code",
      "execution_count": null,
      "metadata": {
        "application/vnd.databricks.v1+cell": {
          "cellMetadata": {},
          "inputWidgets": {},
          "nuid": "2c0bdc2c-b6df-4fef-b5c2-db2b5dd670c7",
          "showTitle": false,
          "title": ""
        },
        "id": "1mvi0dDtjsNh"
      },
      "outputs": [],
      "source": []
    },
    {
      "cell_type": "markdown",
      "metadata": {
        "application/vnd.databricks.v1+cell": {
          "cellMetadata": {},
          "inputWidgets": {},
          "nuid": "ce2107cd-94a1-47a6-94a2-c8069a253ebf",
          "showTitle": false,
          "title": ""
        },
        "id": "2btAdvgnjsNh"
      },
      "source": [
        "🐼 Generar una columna que se llame PESOS cuyo valor sea DOLARES * 400"
      ]
    },
    {
      "cell_type": "code",
      "execution_count": null,
      "metadata": {
        "application/vnd.databricks.v1+cell": {
          "cellMetadata": {},
          "inputWidgets": {},
          "nuid": "4515c55e-8144-4598-bed8-972ad14bf0ad",
          "showTitle": false,
          "title": ""
        },
        "id": "0y246y5ujsNh"
      },
      "outputs": [],
      "source": []
    },
    {
      "cell_type": "code",
      "execution_count": null,
      "metadata": {
        "application/vnd.databricks.v1+cell": {
          "cellMetadata": {},
          "inputWidgets": {},
          "nuid": "bd42f213-74e7-4a2a-9392-8c4862e8f51d",
          "showTitle": false,
          "title": ""
        },
        "id": "MMxnw-rejsNi"
      },
      "outputs": [],
      "source": []
    },
    {
      "cell_type": "code",
      "execution_count": null,
      "metadata": {
        "application/vnd.databricks.v1+cell": {
          "cellMetadata": {},
          "inputWidgets": {},
          "nuid": "eeb70b09-2c6a-405b-b345-9b47d9abf9f4",
          "showTitle": false,
          "title": ""
        },
        "id": "kRCA1LgcjsNi"
      },
      "outputs": [],
      "source": []
    },
    {
      "cell_type": "code",
      "execution_count": null,
      "metadata": {
        "application/vnd.databricks.v1+cell": {
          "cellMetadata": {},
          "inputWidgets": {},
          "nuid": "26c22b51-a2a4-4b72-8d66-ed2be19c69ae",
          "showTitle": false,
          "title": ""
        },
        "id": "oPcGgaDDjsNi"
      },
      "outputs": [],
      "source": []
    },
    {
      "cell_type": "code",
      "execution_count": null,
      "metadata": {
        "application/vnd.databricks.v1+cell": {
          "cellMetadata": {},
          "inputWidgets": {},
          "nuid": "37cd22cf-36f4-4c4b-97b3-29ef64963d37",
          "showTitle": false,
          "title": ""
        },
        "id": "3VOo3XbJjsNi"
      },
      "outputs": [],
      "source": []
    },
    {
      "cell_type": "code",
      "execution_count": null,
      "metadata": {
        "application/vnd.databricks.v1+cell": {
          "cellMetadata": {},
          "inputWidgets": {},
          "nuid": "9c724b84-97ec-407d-b2ba-99c2c846e9ff",
          "showTitle": false,
          "title": ""
        },
        "id": "rTQEGNeajsNi"
      },
      "outputs": [],
      "source": []
    },
    {
      "cell_type": "markdown",
      "metadata": {
        "application/vnd.databricks.v1+cell": {
          "cellMetadata": {},
          "inputWidgets": {},
          "nuid": "e5077437-b57f-46f7-8d17-ae7f40e32746",
          "showTitle": false,
          "title": ""
        },
        "id": "llr3QyKZjsNi"
      },
      "source": [
        "🐼 Imprimi los datos estadisticos del dataframe"
      ]
    },
    {
      "cell_type": "code",
      "execution_count": null,
      "metadata": {
        "application/vnd.databricks.v1+cell": {
          "cellMetadata": {},
          "inputWidgets": {},
          "nuid": "f0bdfd59-7bee-416c-b3ad-d9808a9916f2",
          "showTitle": false,
          "title": ""
        },
        "id": "pqwyPUBZjsNi"
      },
      "outputs": [],
      "source": []
    },
    {
      "cell_type": "markdown",
      "metadata": {
        "application/vnd.databricks.v1+cell": {
          "cellMetadata": {},
          "inputWidgets": {},
          "nuid": "de46fda0-2406-4671-8b3c-08a959c82eaa",
          "showTitle": false,
          "title": ""
        },
        "id": "XuLixRPNjsNj"
      },
      "source": [
        "Podemos ver que la **media** de las posiciones esta en [-34.592671,\t-58.428680], es decir las propiedades de mi DataFrame \"orbitan\" sobre este punto.\n",
        "\n",
        "El **desvio estandar** es de [0.022613,\t0.034102]\n",
        "\n",
        "*El desvio estandar es una medida que se utiliza para cuantificar la dispersión de un conjunto de datos numéricos.*\n",
        "\n",
        "![](https://upload.wikimedia.org/wikipedia/commons/thumb/8/8c/Standard_deviation_diagram.svg/450px-Standard_deviation_diagram.svg.png)"
      ]
    },
    {
      "cell_type": "code",
      "execution_count": null,
      "metadata": {
        "application/vnd.databricks.v1+cell": {
          "cellMetadata": {},
          "inputWidgets": {},
          "nuid": "794819fe-e76f-4efc-bd46-a7f7a8afa60e",
          "showTitle": false,
          "title": ""
        },
        "id": "UwRN_uX4jsNj"
      },
      "outputs": [],
      "source": []
    },
    {
      "cell_type": "code",
      "execution_count": null,
      "metadata": {
        "application/vnd.databricks.v1+cell": {
          "cellMetadata": {},
          "inputWidgets": {},
          "nuid": "2b2bcc88-a0e6-48e3-b07e-111fc506c41e",
          "showTitle": false,
          "title": ""
        },
        "id": "ZPc5shhxjsNj"
      },
      "outputs": [],
      "source": [
        "!pip install folium"
      ]
    },
    {
      "cell_type": "markdown",
      "metadata": {
        "application/vnd.databricks.v1+cell": {
          "cellMetadata": {},
          "inputWidgets": {},
          "nuid": "ddb40e38-78fb-49ec-b760-f81318adce34",
          "showTitle": false,
          "title": ""
        },
        "id": "Vv1wGQvRjsNj"
      },
      "source": [
        "Vemos que la mayoria de registros pertenecen a CABA:"
      ]
    },
    {
      "cell_type": "code",
      "execution_count": null,
      "metadata": {
        "application/vnd.databricks.v1+cell": {
          "cellMetadata": {},
          "inputWidgets": {},
          "nuid": "39ce92a0-034c-445f-b39f-9d1b858d13a7",
          "showTitle": false,
          "title": ""
        },
        "id": "bO5av0eKjsNj"
      },
      "outputs": [],
      "source": [
        "import folium\n",
        "from folium.plugins import MiniMap\n",
        "\n",
        "departamentos_muestra = departamentos.head(200)\n",
        "m = folium.Map()\n",
        "folium.TileLayer(tiles = \"OpenStreetMap\" ).add_to(m)\n",
        "folium.TileLayer(tiles = \"Stamen Terrain\").add_to(m)\n",
        "folium.TileLayer(tiles = \"Stamen Toner\").add_to(m)\n",
        "folium.TileLayer(tiles = \"Stamen Watercolor\").add_to(m)\n",
        "folium.TileLayer(tiles = \"CartoDB Dark_Matter\").add_to(m)\n",
        "folium.LayerControl().add_to(m)\n",
        "\n",
        "for i in range(0,departamentos_muestra.shape[0]):\n",
        "    lat_ = departamentos_muestra.loc[i, \"LATITUD\"]\n",
        "    lon_ = departamentos_muestra.loc[i, \"LONGITUD\"]\n",
        "    folium.Marker(location=[lat_, lon_]).add_to(m)\n",
        "\n",
        "minimap = MiniMap(toggle_display = True, tile_layer=\"OpenStreetMap\", position = \"bottomright\")\n",
        "m.add_child(minimap)"
      ]
    },
    {
      "cell_type": "code",
      "execution_count": null,
      "metadata": {
        "application/vnd.databricks.v1+cell": {
          "cellMetadata": {},
          "inputWidgets": {},
          "nuid": "cc812942-18aa-4e1a-aeb0-b2e7060fbe37",
          "showTitle": false,
          "title": ""
        },
        "id": "SmR55lpbjsNk"
      },
      "outputs": [],
      "source": []
    },
    {
      "cell_type": "markdown",
      "metadata": {
        "application/vnd.databricks.v1+cell": {
          "cellMetadata": {},
          "inputWidgets": {},
          "nuid": "131220b4-b2b4-478a-a8ab-46c520be57af",
          "showTitle": false,
          "title": ""
        },
        "id": "GpZp8k_8jsNk"
      },
      "source": [
        "Verificar posibles valores nulos"
      ]
    },
    {
      "cell_type": "code",
      "execution_count": null,
      "metadata": {
        "application/vnd.databricks.v1+cell": {
          "cellMetadata": {},
          "inputWidgets": {},
          "nuid": "0b90f019-262b-4af9-aa12-64e6dc3c3bed",
          "showTitle": false,
          "title": ""
        },
        "id": "al9xenmyjsNk"
      },
      "outputs": [],
      "source": []
    },
    {
      "cell_type": "markdown",
      "metadata": {
        "application/vnd.databricks.v1+cell": {
          "cellMetadata": {},
          "inputWidgets": {},
          "nuid": "3dafba0c-5139-474a-ab3e-ec14f49eab18",
          "showTitle": false,
          "title": ""
        },
        "id": "AVDMZgvmjsNk"
      },
      "source": [
        "🐼 Imprimir el valor que se encuentra en el indice 5 y en el indice 1 y columna M2"
      ]
    },
    {
      "cell_type": "code",
      "execution_count": null,
      "metadata": {
        "application/vnd.databricks.v1+cell": {
          "cellMetadata": {},
          "inputWidgets": {},
          "nuid": "ce7343fa-0233-40da-bce5-5b2b0ade970d",
          "showTitle": false,
          "title": ""
        },
        "id": "rLhk6oiVjsNk"
      },
      "outputs": [],
      "source": [
        " # El 1 y el 5 únicamente\n",
        " # Del 1 al 5"
      ]
    },
    {
      "cell_type": "markdown",
      "metadata": {
        "application/vnd.databricks.v1+cell": {
          "cellMetadata": {},
          "inputWidgets": {},
          "nuid": "35178d8e-5d23-4520-af16-7a4416ac5a13",
          "showTitle": false,
          "title": ""
        },
        "id": "PHOy6wkNjsNk"
      },
      "source": [
        "🐼 Obtener los valores unicos que integran la columna ``COMUNA``"
      ]
    },
    {
      "cell_type": "code",
      "execution_count": null,
      "metadata": {
        "application/vnd.databricks.v1+cell": {
          "cellMetadata": {},
          "inputWidgets": {},
          "nuid": "a5c50e0a-74b2-4e37-b714-11a3c7b19d94",
          "showTitle": false,
          "title": ""
        },
        "id": "0UD65pVtjsNl"
      },
      "outputs": [],
      "source": []
    },
    {
      "cell_type": "markdown",
      "metadata": {
        "application/vnd.databricks.v1+cell": {
          "cellMetadata": {},
          "inputWidgets": {},
          "nuid": "338702e6-cd83-4cff-8976-061459654a65",
          "showTitle": false,
          "title": ""
        },
        "id": "Bjvb0s-gjsNl"
      },
      "source": [
        "🐼 Imprimir las primeras 3 columnas y las primeras 4 filas"
      ]
    },
    {
      "cell_type": "code",
      "execution_count": null,
      "metadata": {
        "application/vnd.databricks.v1+cell": {
          "cellMetadata": {},
          "inputWidgets": {},
          "nuid": "98d40a49-5c91-4a40-9e7c-5212bfa9d9f4",
          "showTitle": false,
          "title": ""
        },
        "id": "5RWlkE0xjsNl"
      },
      "outputs": [],
      "source": []
    },
    {
      "cell_type": "code",
      "execution_count": null,
      "metadata": {
        "application/vnd.databricks.v1+cell": {
          "cellMetadata": {},
          "inputWidgets": {},
          "nuid": "058d326e-4cb9-462b-8d45-78a99cf4a9ef",
          "showTitle": false,
          "title": ""
        },
        "id": "qS7x3yUvjsNl"
      },
      "outputs": [],
      "source": []
    },
    {
      "cell_type": "markdown",
      "metadata": {
        "application/vnd.databricks.v1+cell": {
          "cellMetadata": {},
          "inputWidgets": {},
          "nuid": "0d94f800-6277-4a1f-8fb6-7c0d07166908",
          "showTitle": false,
          "title": ""
        },
        "id": "DiZ5YlExjsNl"
      },
      "source": [
        "🐼 Imprimir el valor de la columna 5 y fila 2"
      ]
    },
    {
      "cell_type": "code",
      "execution_count": null,
      "metadata": {
        "application/vnd.databricks.v1+cell": {
          "cellMetadata": {},
          "inputWidgets": {},
          "nuid": "f73bab3b-4683-4779-905f-a7b26008d330",
          "showTitle": false,
          "title": ""
        },
        "id": "X6vnSlMmjsNl"
      },
      "outputs": [],
      "source": []
    },
    {
      "cell_type": "code",
      "execution_count": null,
      "metadata": {
        "application/vnd.databricks.v1+cell": {
          "cellMetadata": {},
          "inputWidgets": {},
          "nuid": "7ce4ce69-69ca-4fba-aeec-c4c2780b0166",
          "showTitle": false,
          "title": ""
        },
        "id": "ZQfKhBQojsNm"
      },
      "outputs": [],
      "source": []
    },
    {
      "cell_type": "markdown",
      "metadata": {
        "application/vnd.databricks.v1+cell": {
          "cellMetadata": {},
          "inputWidgets": {},
          "nuid": "99f26fae-cb7e-4ccf-9142-7411420f3c64",
          "showTitle": false,
          "title": ""
        },
        "id": "-jy8tzWWjsNm"
      },
      "source": [
        "🐼 Seleccionar todas las filas de las siguientes columnas: DOLARES y COMUNA"
      ]
    },
    {
      "cell_type": "code",
      "execution_count": null,
      "metadata": {
        "application/vnd.databricks.v1+cell": {
          "cellMetadata": {},
          "inputWidgets": {},
          "nuid": "01124469-a7a9-4b45-9169-a6e6ae92e5a6",
          "showTitle": false,
          "title": ""
        },
        "id": "UWVCa-cZjsNm"
      },
      "outputs": [],
      "source": []
    },
    {
      "cell_type": "markdown",
      "metadata": {
        "application/vnd.databricks.v1+cell": {
          "cellMetadata": {},
          "inputWidgets": {},
          "nuid": "9ef9d0ee-ce18-467f-8bf7-2eb051dc429f",
          "showTitle": false,
          "title": ""
        },
        "id": "k5WK_DGOjsNm"
      },
      "source": [
        "🐼 **Filtrado**: Seleccionar las filas que sean de la comuna 13"
      ]
    },
    {
      "cell_type": "code",
      "execution_count": null,
      "metadata": {
        "application/vnd.databricks.v1+cell": {
          "cellMetadata": {},
          "inputWidgets": {},
          "nuid": "c374609a-341f-4719-ab98-6d1850d83444",
          "showTitle": false,
          "title": ""
        },
        "id": "oM5j6WvajsNm"
      },
      "outputs": [],
      "source": []
    },
    {
      "cell_type": "code",
      "execution_count": null,
      "metadata": {
        "application/vnd.databricks.v1+cell": {
          "cellMetadata": {},
          "inputWidgets": {},
          "nuid": "58ce2878-d1ef-4775-a29b-4b9c579252fe",
          "showTitle": false,
          "title": ""
        },
        "id": "Hhhk2f66jsNm"
      },
      "outputs": [],
      "source": []
    },
    {
      "cell_type": "markdown",
      "metadata": {
        "application/vnd.databricks.v1+cell": {
          "cellMetadata": {},
          "inputWidgets": {},
          "nuid": "27880938-df9b-4c33-a6cd-eaa3f1acf1db",
          "showTitle": false,
          "title": ""
        },
        "id": "Z7aa0Bz-jsNm"
      },
      "source": [
        "🐼 Seleccionar los departamentos que valgan menos de $50000 **o** esten en *COMUNA 02*"
      ]
    },
    {
      "cell_type": "code",
      "execution_count": null,
      "metadata": {
        "application/vnd.databricks.v1+cell": {
          "cellMetadata": {},
          "inputWidgets": {},
          "nuid": "7b1b7a64-8ed8-4e5b-aac7-939470665109",
          "showTitle": false,
          "title": ""
        },
        "id": "e0qHTuAtjsNn"
      },
      "outputs": [],
      "source": []
    },
    {
      "cell_type": "code",
      "execution_count": null,
      "metadata": {
        "application/vnd.databricks.v1+cell": {
          "cellMetadata": {},
          "inputWidgets": {},
          "nuid": "82a282ce-3a34-4461-847d-2e88937eb75c",
          "showTitle": false,
          "title": ""
        },
        "id": "uE5mKaqpjsNn"
      },
      "outputs": [],
      "source": []
    },
    {
      "cell_type": "code",
      "execution_count": null,
      "metadata": {
        "application/vnd.databricks.v1+cell": {
          "cellMetadata": {},
          "inputWidgets": {},
          "nuid": "19954f52-3e7e-4729-8a1c-1cca029852f2",
          "showTitle": false,
          "title": ""
        },
        "id": "QKq8Y6nejsNn"
      },
      "outputs": [],
      "source": []
    },
    {
      "cell_type": "code",
      "execution_count": null,
      "metadata": {
        "application/vnd.databricks.v1+cell": {
          "cellMetadata": {},
          "inputWidgets": {},
          "nuid": "1d6ec215-0d7d-434f-81d4-f23b649c1e82",
          "showTitle": false,
          "title": ""
        },
        "id": "t1ceCBYdjsNn"
      },
      "outputs": [],
      "source": []
    },
    {
      "cell_type": "markdown",
      "metadata": {
        "application/vnd.databricks.v1+cell": {
          "cellMetadata": {},
          "inputWidgets": {},
          "nuid": "b9234214-5244-4c34-9842-36a3a918541a",
          "showTitle": false,
          "title": ""
        },
        "id": "7c2acsrdjsNn"
      },
      "source": [
        "🐼 Seleccionar los departamentos que tengan mas de 3 baños **y** cuya antiguedad sea menor a 5 años"
      ]
    },
    {
      "cell_type": "code",
      "execution_count": null,
      "metadata": {
        "application/vnd.databricks.v1+cell": {
          "cellMetadata": {},
          "inputWidgets": {},
          "nuid": "937b56d6-beb4-407a-ac43-b1992f3aab56",
          "showTitle": false,
          "title": ""
        },
        "id": "CKwZt1pZjsNn"
      },
      "outputs": [],
      "source": []
    },
    {
      "cell_type": "markdown",
      "metadata": {
        "application/vnd.databricks.v1+cell": {
          "cellMetadata": {},
          "inputWidgets": {},
          "nuid": "60996811-0706-48b6-b668-2b88346acf22",
          "showTitle": false,
          "title": ""
        },
        "id": "X_x9QI-ujsNn"
      },
      "source": [
        "🐼 Seleccionar los departamentos que **no** pertenezcan a la COMUNA 13"
      ]
    },
    {
      "cell_type": "code",
      "execution_count": null,
      "metadata": {
        "application/vnd.databricks.v1+cell": {
          "cellMetadata": {},
          "inputWidgets": {},
          "nuid": "6feaa960-0576-43e8-ad4f-8ae88e20906c",
          "showTitle": false,
          "title": ""
        },
        "id": "6BbrBJIEjsNo"
      },
      "outputs": [],
      "source": []
    },
    {
      "cell_type": "markdown",
      "metadata": {
        "application/vnd.databricks.v1+cell": {
          "cellMetadata": {},
          "inputWidgets": {},
          "nuid": "ca881a9a-eb27-4e23-81f7-07325350af35",
          "showTitle": false,
          "title": ""
        },
        "id": "QpfjQYWOjsNo"
      },
      "source": [
        "🐼 Seleccionar los departamentos cuyo valor se encuentre entre 50000 y 60000"
      ]
    },
    {
      "cell_type": "code",
      "execution_count": null,
      "metadata": {
        "application/vnd.databricks.v1+cell": {
          "cellMetadata": {},
          "inputWidgets": {},
          "nuid": "ad88116a-a553-4323-90ef-ab0f9f35e6ff",
          "showTitle": false,
          "title": ""
        },
        "id": "hUw_1bZ5jsNo"
      },
      "outputs": [],
      "source": []
    },
    {
      "cell_type": "code",
      "execution_count": null,
      "metadata": {
        "application/vnd.databricks.v1+cell": {
          "cellMetadata": {},
          "inputWidgets": {},
          "nuid": "4cb08315-7739-4bf2-8826-261dc5e4b669",
          "showTitle": false,
          "title": ""
        },
        "id": "PEZAOn-OjsNo"
      },
      "outputs": [],
      "source": []
    },
    {
      "cell_type": "markdown",
      "metadata": {
        "application/vnd.databricks.v1+cell": {
          "cellMetadata": {},
          "inputWidgets": {},
          "nuid": "b4479b82-c81d-4395-a723-f7f974fa0c36",
          "showTitle": false,
          "title": ""
        },
        "id": "CS0VxibIjsNo"
      },
      "source": [
        "🐼 Obtener el departamento con menor precio que pertenezca a alguna de las siguientes comunas: \"COMUNA 03\", \"COMUNA 07\", \"COMUNA 15\""
      ]
    },
    {
      "cell_type": "code",
      "execution_count": null,
      "metadata": {
        "application/vnd.databricks.v1+cell": {
          "cellMetadata": {},
          "inputWidgets": {},
          "nuid": "13c3dd92-f754-4607-8f32-1e557f37ec01",
          "showTitle": false,
          "title": ""
        },
        "id": "gMXR4jJujsNo"
      },
      "outputs": [],
      "source": []
    },
    {
      "cell_type": "code",
      "execution_count": null,
      "metadata": {
        "application/vnd.databricks.v1+cell": {
          "cellMetadata": {},
          "inputWidgets": {},
          "nuid": "7e093105-59e4-4eac-ba66-44925025c06a",
          "showTitle": false,
          "title": ""
        },
        "id": "KFW3vgaxjsNo"
      },
      "outputs": [],
      "source": []
    },
    {
      "cell_type": "code",
      "execution_count": null,
      "metadata": {
        "application/vnd.databricks.v1+cell": {
          "cellMetadata": {},
          "inputWidgets": {},
          "nuid": "c153dc2a-4457-421c-b5d3-19161e2949df",
          "showTitle": false,
          "title": ""
        },
        "id": "LFhgSJxpjsNp"
      },
      "outputs": [],
      "source": []
    },
    {
      "cell_type": "code",
      "execution_count": null,
      "metadata": {
        "application/vnd.databricks.v1+cell": {
          "cellMetadata": {},
          "inputWidgets": {},
          "nuid": "8ddcf6e0-8775-4675-8373-1470c61fa00a",
          "showTitle": false,
          "title": ""
        },
        "id": "WlKWyYIljsNp"
      },
      "outputs": [],
      "source": []
    },
    {
      "cell_type": "code",
      "execution_count": null,
      "metadata": {
        "application/vnd.databricks.v1+cell": {
          "cellMetadata": {},
          "inputWidgets": {},
          "nuid": "3192fda1-b687-47e9-9f4f-d583fccb8f4b",
          "showTitle": false,
          "title": ""
        },
        "id": "5Wxpa8ZVjsNp"
      },
      "outputs": [],
      "source": []
    },
    {
      "cell_type": "code",
      "execution_count": null,
      "metadata": {
        "application/vnd.databricks.v1+cell": {
          "cellMetadata": {},
          "inputWidgets": {},
          "nuid": "ee469138-403b-4e97-9945-00bffa8f1a24",
          "showTitle": false,
          "title": ""
        },
        "id": "_xFDG8LKjsNr"
      },
      "outputs": [],
      "source": []
    },
    {
      "cell_type": "code",
      "execution_count": null,
      "metadata": {
        "application/vnd.databricks.v1+cell": {
          "cellMetadata": {},
          "inputWidgets": {},
          "nuid": "115d08f0-a1f9-4d25-9e63-424b80b4bf56",
          "showTitle": false,
          "title": ""
        },
        "id": "h51tE8jRjsNr"
      },
      "outputs": [],
      "source": []
    },
    {
      "cell_type": "code",
      "execution_count": null,
      "metadata": {
        "application/vnd.databricks.v1+cell": {
          "cellMetadata": {},
          "inputWidgets": {},
          "nuid": "a8bc91d0-fb4e-42ca-8fb3-9fb868224048",
          "showTitle": false,
          "title": ""
        },
        "id": "9HbeYlczjsNr"
      },
      "outputs": [],
      "source": []
    },
    {
      "cell_type": "markdown",
      "metadata": {
        "application/vnd.databricks.v1+cell": {
          "cellMetadata": {},
          "inputWidgets": {},
          "nuid": "a242335b-5af2-4e84-8f90-44d508a1fb92",
          "showTitle": false,
          "title": ""
        },
        "id": "48qWKHBhjsNr"
      },
      "source": [
        "🐼 La verdadera potencia de pandas se demuestra cuando **encadenamos** operaciones"
      ]
    },
    {
      "cell_type": "code",
      "execution_count": null,
      "metadata": {
        "application/vnd.databricks.v1+cell": {
          "cellMetadata": {},
          "inputWidgets": {},
          "nuid": "87a26316-3fb1-4148-8d61-722269b9f963",
          "showTitle": false,
          "title": ""
        },
        "id": "ZC-liWNojsNr"
      },
      "outputs": [],
      "source": []
    },
    {
      "cell_type": "markdown",
      "metadata": {
        "application/vnd.databricks.v1+cell": {
          "cellMetadata": {},
          "inputWidgets": {},
          "nuid": "a0a531bd-522d-4c64-a5e9-d24ca2476eb2",
          "showTitle": false,
          "title": ""
        },
        "id": "zc-CfHIfjsNs"
      },
      "source": [
        "🐼 Contar la cantidad de departamentos que hay en cada comuna."
      ]
    },
    {
      "cell_type": "code",
      "execution_count": null,
      "metadata": {
        "application/vnd.databricks.v1+cell": {
          "cellMetadata": {},
          "inputWidgets": {},
          "nuid": "74266453-8aa2-48ad-87fe-fc23b5fffe79",
          "showTitle": false,
          "title": ""
        },
        "scrolled": true,
        "id": "WC5VVO2EjsNs"
      },
      "outputs": [],
      "source": []
    },
    {
      "cell_type": "markdown",
      "metadata": {
        "application/vnd.databricks.v1+cell": {
          "cellMetadata": {},
          "inputWidgets": {},
          "nuid": "53207a59-95ad-48dd-8727-3bc0a8ded721",
          "showTitle": false,
          "title": ""
        },
        "id": "WN5ewtPqjsNs"
      },
      "source": [
        "🐼 Contar por ambientes los departamentos de la comuna 14"
      ]
    },
    {
      "cell_type": "code",
      "execution_count": null,
      "metadata": {
        "application/vnd.databricks.v1+cell": {
          "cellMetadata": {},
          "inputWidgets": {},
          "nuid": "58b81a48-2230-4487-8f1f-28c45fe6b0e5",
          "showTitle": false,
          "title": ""
        },
        "id": "oWPtCtqvjsNt"
      },
      "outputs": [],
      "source": []
    },
    {
      "cell_type": "markdown",
      "metadata": {
        "application/vnd.databricks.v1+cell": {
          "cellMetadata": {},
          "inputWidgets": {},
          "nuid": "2ba51d60-e302-4a9f-95b8-56a728ad2d00",
          "showTitle": false,
          "title": ""
        },
        "id": "KV7feOTyjsNt"
      },
      "source": [
        "🐼Metodo para estadistica descriptiva\n",
        "\n",
        "- sum()\n",
        "- mean()\n",
        "- max()\n",
        "- min()"
      ]
    },
    {
      "cell_type": "code",
      "execution_count": null,
      "metadata": {
        "application/vnd.databricks.v1+cell": {
          "cellMetadata": {},
          "inputWidgets": {},
          "nuid": "575b11b3-81e8-48e9-bd32-bf6d550f46bc",
          "showTitle": false,
          "title": ""
        },
        "id": "YiMkCwf4jsNt"
      },
      "outputs": [],
      "source": []
    },
    {
      "cell_type": "code",
      "execution_count": null,
      "metadata": {
        "application/vnd.databricks.v1+cell": {
          "cellMetadata": {},
          "inputWidgets": {},
          "nuid": "810c8b5c-a498-4baf-ab85-e440a6ee0ed9",
          "showTitle": false,
          "title": ""
        },
        "id": "YctxhJ3mjsNt"
      },
      "outputs": [],
      "source": []
    },
    {
      "cell_type": "code",
      "execution_count": null,
      "metadata": {
        "application/vnd.databricks.v1+cell": {
          "cellMetadata": {},
          "inputWidgets": {},
          "nuid": "b127b05b-8b19-45bc-b311-1e56613d547a",
          "showTitle": false,
          "title": ""
        },
        "id": "5yjqzKoOjsNt"
      },
      "outputs": [],
      "source": []
    },
    {
      "cell_type": "code",
      "execution_count": null,
      "metadata": {
        "application/vnd.databricks.v1+cell": {
          "cellMetadata": {},
          "inputWidgets": {},
          "nuid": "22e72fb7-70c1-4e7b-b556-589019b68945",
          "showTitle": false,
          "title": ""
        },
        "id": "wBWzPkBjjsNt"
      },
      "outputs": [],
      "source": []
    }
  ],
  "metadata": {
    "application/vnd.databricks.v1+notebook": {
      "dashboards": [],
      "language": "python",
      "notebookMetadata": {
        "pythonIndentUnit": 4
      },
      "notebookName": "Pandas-Introduccion",
      "widgets": {}
    },
    "kernelspec": {
      "display_name": "Python 3 (ipykernel)",
      "language": "python",
      "name": "python3"
    },
    "language_info": {
      "codemirror_mode": {
        "name": "ipython",
        "version": 3
      },
      "file_extension": ".py",
      "mimetype": "text/x-python",
      "name": "python",
      "nbconvert_exporter": "python",
      "pygments_lexer": "ipython3",
      "version": "3.9.7"
    },
    "colab": {
      "provenance": []
    }
  },
  "nbformat": 4,
  "nbformat_minor": 0
}