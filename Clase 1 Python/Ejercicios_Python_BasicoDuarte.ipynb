{
  "cells": [
    {
      "cell_type": "markdown",
      "id": "a5e8e1c1",
      "metadata": {
        "id": "a5e8e1c1"
      },
      "source": [
        "![](https://i.pinimg.com/originals/73/20/2a/73202af19e27fbfac7acddeb1763e789.jpg)\n",
        "\n",
        "\n",
        "### 1.1\n",
        "Escribir un script que pregunte el nombre del usuario, luego muestre por pantalla el siguiente mensaje:\n",
        "\n",
        "¡Hola ``nombre``!, tu nombre tiene ``cantidad_de_letras`` letras\n",
        "\n",
        "\n",
        "- ``nombre`` es el nombre que el usuario haya introducido.\n",
        "- ``cantidad_de_letras`` es la cantidad de letras que posee ``nombre``"
      ]
    },
    {
      "cell_type": "code",
      "execution_count": null,
      "id": "xIaMttORFHNh",
      "metadata": {
        "id": "xIaMttORFHNh",
        "colab": {
          "base_uri": "https://localhost:8080/"
        },
        "outputId": "f848a3ae-88f6-4c16-b068-1b6708ce5f38"
      },
      "outputs": [
        {
          "output_type": "stream",
          "name": "stdout",
          "text": [
            "Ingrese nombregiovanni\n",
            "giovanni tiene 8 letras\n"
          ]
        }
      ],
      "source": [
        "def nombre():\n",
        "  nOMBRE = input(\"Ingrese nombre \")\n",
        "  c_letras = len(nOMBRE)\n",
        "  print(f\"{nOMBRE} tiene {c_letras} letras\")\n",
        "nombre()\n"
      ]
    },
    {
      "cell_type": "markdown",
      "id": "dc225348",
      "metadata": {
        "id": "dc225348"
      },
      "source": [
        "### 1.2\n",
        "Escribir un script que pregunte el nombre y apellido del usuario y después muestre el nombre completo del usuario tres veces:\n",
        "\n",
        "- una con todas las letras minúsculas\n",
        "- otra con todas las letras mayúsculas\n",
        "- otra solo con la primera letra del nombre y de los apellidos en mayúscula."
      ]
    },
    {
      "cell_type": "code",
      "execution_count": null,
      "id": "WVl9cxwAepeq",
      "metadata": {
        "id": "WVl9cxwAepeq",
        "colab": {
          "base_uri": "https://localhost:8080/"
        },
        "outputId": "f22a7cf4-cf92-4703-96ae-cd133d37c9c7"
      },
      "outputs": [
        {
          "output_type": "stream",
          "name": "stdout",
          "text": [
            "Ingrese nombre Giovanni\n",
            "Ingrese apellido Duarte\n",
            "giovanni duarte - GIOVANNI DUARTE - Giovanni Duarte\n"
          ]
        }
      ],
      "source": [
        "def preguntarnombre():\n",
        "  nombre = input(\"Ingrese nombre \")\n",
        "  apellido = input(\"Ingrese apellido \")\n",
        "  minusculas = nombre.lower() + \" \" + apellido.lower()\n",
        "  mayusculas = nombre.upper() + \" \" + apellido.upper()\n",
        "  primera_letra = nombre.capitalize() + \" \" + apellido.capitalize()\n",
        "  print(f\"{minusculas} - {mayusculas} - {primera_letra}\")\n",
        "\n",
        "preguntarnombre()"
      ]
    },
    {
      "cell_type": "markdown",
      "id": "d66a4f32",
      "metadata": {
        "id": "d66a4f32"
      },
      "source": [
        "### 1.3\n",
        "Se tiene un dataset cuyos numeros telefonico siguen el siguiente formato: *prefijo-número-extension*\n",
        "\n",
        "Ejemplo: +34-913724710-56\n",
        "\n",
        "- Dado un numero telefonico, se pide mostrar en consola el siguiente mensaje:\n",
        "\n",
        "Su numero de telefono es: +34-913724710-56, Prefijo: 34, Numero: 913724710 y Extension: 56*\n",
        "\n",
        "Nombre = input(\"Cual es tu nombre ? \") **Ojo: no se vale contar caracteres, ya que la longitud tanto del prefijo, numero y extension podrian variar.**"
      ]
    },
    {
      "cell_type": "code",
      "execution_count": null,
      "id": "d4ea0aa7",
      "metadata": {
        "id": "d4ea0aa7"
      },
      "outputs": [],
      "source": [
        "nombre = input(\"Ingrese Nombre \")\n",
        "numero_telefonico = input(\"ingrese numero telefonico \")\n",
        "desarme = numero_telefonico.split(\"-\")\n",
        "prefijo = desarme[0]\n",
        "numero = desarme[1]\n",
        "extension = desarme[2]\n",
        "\n",
        "print(f\"Su numero de telefono es: {numero_telefonico}, Prefijo: {prefijo}, Numero: {numero} y Extension: {extension}*\")"
      ]
    },
    {
      "cell_type": "code",
      "execution_count": null,
      "id": "9eea64b8-9dfd-4444-9107-fd92d25fc605",
      "metadata": {
        "id": "9eea64b8-9dfd-4444-9107-fd92d25fc605"
      },
      "outputs": [],
      "source": []
    },
    {
      "cell_type": "markdown",
      "id": "1c5f781e",
      "metadata": {
        "id": "1c5f781e"
      },
      "source": [
        "### 1.4\n",
        "Dada la siguiente lista de ``mails_viejos``, pasarla de forma automatizada a la de ``mails_nuevos``"
      ]
    },
    {
      "cell_type": "code",
      "execution_count": null,
      "id": "50dc1f91",
      "metadata": {
        "id": "50dc1f91"
      },
      "outputs": [],
      "source": [
        "mails_viejos = ['Rihanna@hotmail.com', 'lady_gaga@hotmail.com', 'taylor_swift_red@hotmail.com']\n",
        "#mails_nuevos = ['Rihanna@gmail.com', 'lady_gaga@gmail.com', 'taylor_swift_red@gmail.com']"
      ]
    },
    {
      "cell_type": "code",
      "execution_count": null,
      "id": "bd71b8d9",
      "metadata": {
        "id": "bd71b8d9",
        "colab": {
          "base_uri": "https://localhost:8080/"
        },
        "outputId": "a5c6ead0-47ff-4009-c29e-d851797c2e9f"
      },
      "outputs": [
        {
          "output_type": "stream",
          "name": "stdout",
          "text": [
            "['Rihanna@gmail.com', 'lady_gaga@gmail.com', 'taylor_swift_red@gmail.com']\n"
          ]
        }
      ],
      "source": [
        "mails_viejos = ['Rihanna@hotmail.com', 'lady_gaga@hotmail.com', 'taylor_swift_red@hotmail.com']\n",
        "mails_nuevos = []\n",
        "for mail_viejo in mails_viejos:\n",
        "  mail_nuevo = mail_viejo.replace(\"hotmail\",\"gmail\")\n",
        "  mails_nuevos.append(mail_nuevo)\n",
        "print(mails_nuevos)\n"
      ]
    },
    {
      "cell_type": "code",
      "execution_count": null,
      "id": "37fbd4b3-79bf-4453-93fb-b24726e8620b",
      "metadata": {
        "id": "37fbd4b3-79bf-4453-93fb-b24726e8620b"
      },
      "outputs": [],
      "source": []
    },
    {
      "cell_type": "markdown",
      "id": "1fe46a66",
      "metadata": {
        "id": "1fe46a66"
      },
      "source": [
        "### 1.5\n",
        "Escribir un script que pregunte al usuario por la contraseña e imprima por pantalla si la contraseña introducida por el usuario coincide con la guardada en la variable **sin tener en cuenta mayúsculas y minúsculas.**"
      ]
    },
    {
      "cell_type": "code",
      "execution_count": null,
      "id": "ecbf63ed",
      "metadata": {
        "id": "ecbf63ed",
        "colab": {
          "base_uri": "https://localhost:8080/"
        },
        "outputId": "81e90e10-c444-4712-9c2d-608a03997d1a"
      },
      "outputs": [
        {
          "output_type": "stream",
          "name": "stdout",
          "text": [
            "Ingrese contraseña: JUGOENprimeraPA\n",
            "Contraseña correcta\n"
          ]
        }
      ],
      "source": [
        "password_guardada = \"JugoenprimeraPA\"\n",
        "password = input(\"Ingrese contraseña: \")\n",
        "if password.lower() == password_guardada.lower():\n",
        "  print(\"Contraseña correcta\")\n",
        "else:\n",
        "  print(\"Contraseña incorrecta\")"
      ]
    },
    {
      "cell_type": "code",
      "execution_count": null,
      "id": "c55c38f7",
      "metadata": {
        "id": "c55c38f7"
      },
      "outputs": [],
      "source": []
    },
    {
      "cell_type": "code",
      "execution_count": null,
      "id": "3ba1af4a-c4bb-48f0-a730-47e8c4efb96d",
      "metadata": {
        "id": "3ba1af4a-c4bb-48f0-a730-47e8c4efb96d"
      },
      "outputs": [],
      "source": []
    },
    {
      "cell_type": "markdown",
      "id": "d9d0bf90",
      "metadata": {
        "id": "d9d0bf90"
      },
      "source": [
        "### 1.6\n",
        "Un Banco quiere etiquetar a sus clientes en funcion de su salario para poder saber si puede asignarle o no una tarjeta de crédito. Solo los clientes clase A y B pueden acceder a la tarjeta.\n",
        "\n",
        "| Salario              | Clasificación |\n",
        "|----------------------|---------------|\n",
        "| Menos de 20000       | D             |\n",
        "| Entre 20000 y 50000  | C             |\n",
        "| Entre 50000 y 100000 | B             |\n",
        "| Mas de 100000        | A             |\n",
        "\n",
        "Generar un Script que dado un salario ingresado devuelva que clasificacion tiene y si califica o no para la tarjeta"
      ]
    },
    {
      "cell_type": "code",
      "execution_count": null,
      "id": "8d65cdc5",
      "metadata": {
        "id": "8d65cdc5",
        "colab": {
          "base_uri": "https://localhost:8080/"
        },
        "outputId": "f5f0bcfb-f488-4d0e-92b5-7601cb6f1646"
      },
      "outputs": [
        {
          "output_type": "stream",
          "name": "stdout",
          "text": [
            "Ingrese salario: 12318723912\n",
            "Su clasificacion es A y aplica para la tarjeta\n"
          ]
        }
      ],
      "source": [
        "clasificacion = ''\n",
        "max_d = 20000\n",
        "max_c = 50000\n",
        "max_b = 100000\n",
        "salario = float(input(\"Ingrese salario: \"))\n",
        "if salario < max_d:\n",
        "  clasificacion = 'D'\n",
        "  print(f\"Su claficacion es {clasificacion} y no aplica para la tarjeta\")\n",
        "elif salario < max_c:\n",
        "  clasificacion = 'C'\n",
        "  print(f\"Su claficacion es {clasificacion} y no aplica para la tarjeta\")\n",
        "elif salario < max_b:\n",
        "  clasificacion = 'B'\n",
        "  print(f\"Su clasificacion es {clasificacion} y aplica para la tarjeta\")\n",
        "else:\n",
        "  clasificacion = 'A'\n",
        "  print(f\"Su clasificacion es {clasificacion} y aplica para la tarjeta\")\n",
        "\n",
        "\n",
        "\n",
        "\n",
        "\n"
      ]
    },
    {
      "cell_type": "markdown",
      "id": "252e680e",
      "metadata": {
        "id": "252e680e"
      },
      "source": [
        "### 1.7\n",
        "Mostrar en consola todos los numeros desde el 1 hasta el 1000 que sean capicua (1, 11,101,etc)"
      ]
    },
    {
      "cell_type": "code",
      "execution_count": null,
      "id": "188cd7f7",
      "metadata": {
        "id": "188cd7f7",
        "colab": {
          "base_uri": "https://localhost:8080/"
        },
        "outputId": "6345e1f1-4bdf-4fa4-dcd3-8f20e8d98215"
      },
      "outputs": [
        {
          "output_type": "stream",
          "name": "stdout",
          "text": [
            "1\n",
            "2\n",
            "3\n",
            "4\n",
            "5\n",
            "6\n",
            "7\n",
            "8\n",
            "9\n"
          ]
        }
      ],
      "source": [
        "for i in range(1,1000):\n",
        " num = str(i)\n",
        " if num==num[::-1]:\n",
        "  print(i)\n"
      ]
    },
    {
      "cell_type": "code",
      "execution_count": null,
      "id": "73426709-5c4f-482a-aaff-6e91e69eb16e",
      "metadata": {
        "id": "73426709-5c4f-482a-aaff-6e91e69eb16e"
      },
      "outputs": [],
      "source": [
        "\n"
      ]
    },
    {
      "cell_type": "markdown",
      "id": "ed9775d9",
      "metadata": {
        "id": "ed9775d9"
      },
      "source": [
        "### 1.8\n",
        "Escribir un programa que pida al usuario un número entero y muestre por pantalla un triángulo rectángulo como el de más abajo, de altura al número introducido.\n",
        "\n",
        "1\n",
        "\n",
        "3 1\n",
        "\n",
        "5 3 1\n",
        "\n",
        "7 5 3 1\n",
        "\n",
        "9 7 5 3 1"
      ]
    },
    {
      "cell_type": "code",
      "execution_count": null,
      "id": "31de563b",
      "metadata": {
        "id": "31de563b",
        "colab": {
          "base_uri": "https://localhost:8080/"
        },
        "outputId": "479ccd8b-c97f-4183-fd7a-c8687b16a46d"
      },
      "outputs": [
        {
          "output_type": "stream",
          "name": "stdout",
          "text": [
            "Ingrese altura del triangulo5\n",
            "1\n",
            "31\n",
            "531\n",
            "7531\n",
            "97531\n"
          ]
        }
      ],
      "source": [
        "altura = int(input(\"Ingrese altura del triangulo\"))\n",
        "\n",
        "for fila in range(altura):\n",
        "    numeros = []\n",
        "    n = 1\n",
        "    for i in range(fila+1):\n",
        "        numeros.append(n)\n",
        "        n = n+2\n",
        "    numeros.reverse()\n",
        "    for numero in numeros:\n",
        "        print(str(numero), end='')\n",
        "    print(\"\")"
      ]
    },
    {
      "cell_type": "markdown",
      "id": "802a4a06",
      "metadata": {
        "id": "802a4a06"
      },
      "source": [
        "### 2.0\n",
        "\n",
        "Escribir un script que dado un número entero positivo muestre la cuenta atrás desde ese número hasta cero separados por comas.\n"
      ]
    },
    {
      "cell_type": "code",
      "execution_count": null,
      "id": "d8b47ee3",
      "metadata": {
        "id": "d8b47ee3",
        "colab": {
          "base_uri": "https://localhost:8080/"
        },
        "outputId": "6c2f2683-ef68-4d3e-d7de-e982df60f170"
      },
      "outputs": [
        {
          "output_type": "stream",
          "name": "stdout",
          "text": [
            "5,\n",
            "4,\n",
            "3,\n",
            "2,\n",
            "1,\n"
          ]
        }
      ],
      "source": [
        "numero = 5\n",
        "for n in range(numero, 0, -1):\n",
        "  print(f\"{n},\")\n"
      ]
    },
    {
      "cell_type": "markdown",
      "id": "5926f0b2",
      "metadata": {
        "id": "5926f0b2"
      },
      "source": [
        "### 2.2\n",
        "\n",
        "Escribir un programa que almacene las asignaturas de un curso (por ejemplo Matemáticas, Física, Química, Historia y Lengua) en una lista, pregunte al usuario la nota que ha sacado en cada asignatura y elimine de la lista las asignaturas aprobadas. Al final el programa debe mostrar por pantalla las asignaturas que el usuario tiene que repetir.\n"
      ]
    },
    {
      "cell_type": "code",
      "execution_count": null,
      "id": "d518931a-fe8c-4236-a332-55cee0ebca5d",
      "metadata": {
        "id": "d518931a-fe8c-4236-a332-55cee0ebca5d",
        "colab": {
          "base_uri": "https://localhost:8080/"
        },
        "outputId": "199adeec-1cbe-4f97-9668-40e23f184d1e"
      },
      "outputs": [
        {
          "output_type": "stream",
          "name": "stdout",
          "text": [
            "Ingrese nota de Matemáticas: 9\n",
            "Ingrese nota de Física: 8\n",
            "Ingrese nota de Química: 2\n",
            "Ingrese nota de Historia: 6\n",
            "Ingrese nota de Lengua: 7\n",
            "Química\n",
            "Historia\n"
          ]
        }
      ],
      "source": [
        "asignaturas = {\n",
        "    \"Matemáticas\": None,\n",
        "    \"Física\": None,\n",
        "    \"Química\": None,\n",
        "    \"Historia\": None,\n",
        "    \"Lengua\": None\n",
        "}\n",
        "\n",
        "for materia in asignaturas.keys():\n",
        "  nota = int(input(f\"Ingrese nota de {materia}: \"))\n",
        "  asignaturas[materia] = nota\n",
        "\n",
        "materias_aprobadas = [materia for materia, nota in asignaturas.items() if nota >= 7]\n",
        "\n",
        "for materia in materias_aprobadas:\n",
        "  del asignaturas[materia]\n",
        "\n",
        "for materia in asignaturas:\n",
        "  print(materia)"
      ]
    },
    {
      "cell_type": "markdown",
      "id": "54eded8d",
      "metadata": {
        "id": "54eded8d"
      },
      "source": [
        "### 2.3\n",
        "\n",
        "Escribir un programa que pida al usuario una palabra y muestre por pantalla el número de veces que contiene cada vocal.\n"
      ]
    },
    {
      "cell_type": "code",
      "execution_count": null,
      "id": "757e8b57",
      "metadata": {
        "id": "757e8b57",
        "colab": {
          "base_uri": "https://localhost:8080/"
        },
        "outputId": "9d5395dd-b8c6-422f-e85f-4d2cf9d14e97"
      },
      "outputs": [
        {
          "output_type": "stream",
          "name": "stdout",
          "text": [
            "Ingrese una palabra: hola\n",
            "La vocal 'a' aparece 1 veces.\n",
            "La vocal 'e' aparece 0 veces.\n",
            "La vocal 'i' aparece 0 veces.\n",
            "La vocal 'o' aparece 1 veces.\n",
            "La vocal 'u' aparece 0 veces.\n"
          ]
        }
      ],
      "source": [
        "palabra = input(\"Ingrese una palabra: \").lower()\n",
        "vocales = {'a': 0, 'e': 0, 'i': 0, 'o': 0, 'u': 0}\n",
        "\n",
        "for letra in palabra:\n",
        "  if letra in vocales:\n",
        "    vocales[letra] += 1\n",
        "\n",
        "for vocal, cuenta in vocales.items():\n",
        "  print(f\"La vocal '{vocal}' aparece {cuenta} veces.\")\n"
      ]
    },
    {
      "cell_type": "markdown",
      "id": "5277a66c",
      "metadata": {
        "id": "5277a66c"
      },
      "source": [
        "### 2.4\n",
        "Escribir un programa que guarde en un diccionario los precios de las frutas de la tabla, pregunte al usuario por una fruta, un número de kilos y muestre por pantalla el precio de ese número de kilos de fruta. Si la fruta no está en el diccionario debe mostrar un mensaje informando de ello.\n",
        "\n",
        "| Fruta   | Precio por Kg |\n",
        "|---------|---------------|\n",
        "| Banana  | 150           |\n",
        "| Manzana | 200           |\n",
        "| Pera    | 180           |\n",
        "| Naranja | 100           |"
      ]
    },
    {
      "cell_type": "code",
      "source": [],
      "metadata": {
        "id": "-t6bHcnGcVck"
      },
      "id": "-t6bHcnGcVck",
      "execution_count": null,
      "outputs": []
    },
    {
      "cell_type": "code",
      "execution_count": null,
      "id": "9e346596-f2f1-48cb-8f03-22d75b30baf3",
      "metadata": {
        "id": "9e346596-f2f1-48cb-8f03-22d75b30baf3",
        "colab": {
          "base_uri": "https://localhost:8080/"
        },
        "outputId": "fb4be85d-0378-401c-d47f-a28720948058"
      },
      "outputs": [
        {
          "output_type": "stream",
          "name": "stdout",
          "text": [
            "ingrese una fruta sandia\n",
            "Ingrese kg a llevar 7\n",
            "Actualmente no hay stock  de sandia\n"
          ]
        }
      ],
      "source": [
        "dicc = {\"banana\":150, \"manzana\":200, \"pera\":180, \"naranja\":100}\n",
        "pfruta= input(\"ingrese una fruta \")\n",
        "kilos = float(input(\"Ingrese kg a llevar \"))\n",
        "if pfruta in dicc.keys():\n",
        "  total = dicc[pfruta] * kilos\n",
        "  print(f\"El precio de {kilos}kg de {pfruta} es de: ${total} \")\n",
        "else:\n",
        "  print(f\"Actualmente no hay stock  de {pfruta}\")"
      ]
    },
    {
      "cell_type": "markdown",
      "id": "6769d482",
      "metadata": {
        "id": "6769d482"
      },
      "source": [
        "### 2.5\n",
        "\n",
        "Escribir un programa que pregunte una fecha en formato dd/mm/aaaa y muestre por pantalla la misma fecha en formato dd de <mes> de aaaa donde <mes> es el nombre del mes."
      ]
    },
    {
      "cell_type": "code",
      "execution_count": 4,
      "id": "d833a50e",
      "metadata": {
        "id": "d833a50e",
        "colab": {
          "base_uri": "https://localhost:8080/"
        },
        "outputId": "1bc62c07-3096-4cf3-a3fc-5e6e273309aa"
      },
      "outputs": [
        {
          "output_type": "stream",
          "name": "stdout",
          "text": [
            "Ingrese fecha dd/mm/aaaa: 19/12/03\n",
            "Dia 19 del mes de Diciembre en año 03\n"
          ]
        }
      ],
      "source": [
        "fecha = input(\"Ingrese fecha dd/mm/aaaa: \")\n",
        "lista_fecha = fecha.split(\"/\")\n",
        "nombremes = \"\"\n",
        "mes = lista_fecha[1]\n",
        "dia = lista_fecha[0]\n",
        "año = lista_fecha[2]\n",
        "if mes == \"01\":\n",
        "  nombremes = \"Enero\"\n",
        "elif mes == \"02\":\n",
        "  nombremes = \"Febrero\"\n",
        "elif mes == \"03\":\n",
        "  nombremes = \"Marzo\"\n",
        "elif mes == \"04\":\n",
        "  nombremes = \"Abril\"\n",
        "elif mes == \"05\":\n",
        "  nombremes = \"Mayo\"\n",
        "elif mes == \"6\":\n",
        "  nombremes = \"Junio\"\n",
        "elif mes == \"7\":\n",
        "  nombremes = \"Julio\"\n",
        "elif mes == \"8\":\n",
        "  nombremes = \"Agosto\"\n",
        "elif mes == \"9\":\n",
        "  nombremes = \"Septiembre\"\n",
        "elif mes == \"10\":\n",
        "  nombremes = \"Octubre\"\n",
        "elif mes == \"11\":\n",
        "  nombremes = \"Noviembre\"\n",
        "elif mes == \"12\":\n",
        "  nombremes = \"Diciembre\"\n",
        "else:\n",
        "  nombremes = \"Mes inválido\"\n",
        "print (f\"Dia {dia} del mes de {nombremes} en año {año}\")\n",
        "\n",
        ""
      ]
    },
    {
      "cell_type": "markdown",
      "id": "3d4b9189",
      "metadata": {
        "id": "3d4b9189"
      },
      "source": [
        "### 2.6\n",
        "\n",
        "Escribir una función que reciba una muestra de números en una lista y devuelva su promedio.\n"
      ]
    },
    {
      "cell_type": "code",
      "execution_count": 12,
      "id": "47f8d7ed",
      "metadata": {
        "id": "47f8d7ed",
        "colab": {
          "base_uri": "https://localhost:8080/"
        },
        "outputId": "c0d03d98-1983-4a1e-808b-373dcf8e46ab"
      },
      "outputs": [
        {
          "output_type": "stream",
          "name": "stdout",
          "text": [
            "Ingrese tantos numeros como desee, ingrese 0 para finalizar 2\n",
            "Ingrese tantos numeros como desee, ingrese 0 para finalizar 4\n",
            "Ingrese tantos numeros como desee, ingrese 0 para finalizar 8\n",
            "Ingrese tantos numeros como desee, ingrese 0 para finalizar 4\n",
            "Ingrese tantos numeros como desee, ingrese 0 para finalizar 3\n",
            "Ingrese tantos numeros como desee, ingrese 0 para finalizar 1\n",
            "Ingrese tantos numeros como desee, ingrese 0 para finalizar 0\n",
            "3.6666666666666665\n"
          ]
        }
      ],
      "source": [
        "numeros = []\n",
        "\n",
        "cont = 0\n",
        "acu = 0\n",
        "numero = None\n",
        "while(numero!=0):\n",
        "  numero = int(input(\"Ingrese tantos numeros como desee, ingrese 0 para finalizar \"))\n",
        "  if numero != 0:\n",
        "    numeros.append(numero)\n",
        "for n in numeros:\n",
        "  cont+=1\n",
        "  acu+= n\n",
        "if cont != 0:\n",
        "  promedio = acu / cont\n",
        "else:\n",
        "  promedio = \"No se ingresaron  numeros\"\n",
        "print(promedio)"
      ]
    },
    {
      "cell_type": "markdown",
      "source": [],
      "metadata": {
        "id": "ubvyValhJ_26"
      },
      "id": "ubvyValhJ_26"
    },
    {
      "cell_type": "markdown",
      "id": "2e484008",
      "metadata": {
        "id": "2e484008"
      },
      "source": [
        "### 2.7\n",
        "\n",
        "Escribir una funcion que tome un string como parametro y devuelva el string pero en orden inversor\n"
      ]
    },
    {
      "cell_type": "code",
      "execution_count": 14,
      "id": "6c34cd01",
      "metadata": {
        "id": "6c34cd01",
        "colab": {
          "base_uri": "https://localhost:8080/",
          "height": 55
        },
        "outputId": "664f1b94-04fa-4a4a-a52f-66b73abb0852"
      },
      "outputs": [
        {
          "name": "stdout",
          "output_type": "stream",
          "text": [
            "ingrese palabra hola\n"
          ]
        },
        {
          "output_type": "execute_result",
          "data": {
            "text/plain": [
              "'aloh'"
            ],
            "application/vnd.google.colaboratory.intrinsic+json": {
              "type": "string"
            }
          },
          "metadata": {},
          "execution_count": 14
        }
      ],
      "source": [
        "def inverso(string):\n",
        "  return string[::-1]\n",
        "palabra = input(\"ingrese palabra \")\n",
        "inverso(palabra)"
      ]
    },
    {
      "cell_type": "markdown",
      "id": "ae6c901f",
      "metadata": {
        "id": "ae6c901f"
      },
      "source": [
        "### 2.8\n",
        "Escribir una funcion que tome un string como parametro y devuelva la palabra mas larga en dicho string\n"
      ]
    },
    {
      "cell_type": "code",
      "execution_count": 22,
      "id": "45c77612",
      "metadata": {
        "id": "45c77612",
        "colab": {
          "base_uri": "https://localhost:8080/"
        },
        "outputId": "35be1c54-05ad-4e92-8d08-01345b85d156"
      },
      "outputs": [
        {
          "output_type": "stream",
          "name": "stdout",
          "text": [
            "Ingrese una oración: sooy giovanni\n",
            "La palabra más larga es: <function palabras_mas_larga at 0x7f6ebbab2c20>\n"
          ]
        }
      ],
      "source": [
        "def palabras_mas_larga(oracion):\n",
        "  max_len = 0\n",
        "  palabramaslarga = \"\"\n",
        "  palabras = oracion.split()\n",
        "  for i in palabras:\n",
        "    if len(i) > max_len:\n",
        "      max_len = len(i)\n",
        "      palabramaslarga = i\n",
        "  return palabramaslarga\n",
        "\n",
        "ora = input(\"Ingrese una oración: \")\n",
        "print(\"La palabra más larga es:\", palabras_mas_larga(ora))\n",
        "\n"
      ]
    },
    {
      "cell_type": "markdown",
      "id": "275d9cb9",
      "metadata": {
        "id": "275d9cb9"
      },
      "source": [
        "### 2.9\n",
        "Escribir una funcion que tome dos strings como parametros y sin importar mayusculas ni minusculas devuelva:\n",
        "- True: si son iguales\n",
        "- False: si son diferentes"
      ]
    },
    {
      "cell_type": "code",
      "execution_count": 24,
      "id": "8376c025",
      "metadata": {
        "id": "8376c025",
        "colab": {
          "base_uri": "https://localhost:8080/"
        },
        "outputId": "63f17e6d-a6c9-4a21-98fd-c5000f21bfd4"
      },
      "outputs": [
        {
          "output_type": "stream",
          "name": "stdout",
          "text": [
            "ingrese palabra 1 hol\n",
            "ingrese palabra 2 asdasdasd\n",
            "False\n"
          ]
        }
      ],
      "source": [
        "def igualar(str1 , str2):\n",
        "  str1.lower()\n",
        "  str2.lower()\n",
        "  if str1==str2:\n",
        "    return True\n",
        "  else:\n",
        "    return False\n",
        "palabra1 = input(\"ingrese palabra 1 \")\n",
        "palabra2 = input(\"ingrese palabra 2 \")\n",
        "print(igualar(palabra1,palabra2))"
      ]
    },
    {
      "cell_type": "markdown",
      "id": "6e2dc662",
      "metadata": {
        "id": "6e2dc662"
      },
      "source": [
        "### 3.0\n",
        "Escribir una funcion que dado una lista de numeros devuelva la multiplicacion de todos ellos\n"
      ]
    },
    {
      "cell_type": "code",
      "execution_count": 27,
      "id": "78bfdcda",
      "metadata": {
        "id": "78bfdcda",
        "colab": {
          "base_uri": "https://localhost:8080/"
        },
        "outputId": "f3afcb10-0a73-4243-da28-ea9a6d50b403"
      },
      "outputs": [
        {
          "output_type": "stream",
          "name": "stdout",
          "text": [
            "280\n"
          ]
        }
      ],
      "source": [
        "\n",
        "listaDeNumeros= [5,2,4,1,7]\n",
        "def multiDeLista(lista):\n",
        "  resultado = 1\n",
        "  for i in lista:\n",
        "    resultado*=i\n",
        "  return resultado\n",
        "print(multiDeLista(listaDeNumeros))"
      ]
    },
    {
      "cell_type": "markdown",
      "id": "6585e0d5",
      "metadata": {
        "id": "6585e0d5"
      },
      "source": [
        "### 3.1\n",
        "Escribir un programa que reciba una cadena de caracteres y devuelva un diccionario con cada palabra que contiene y su frecuencia.\n"
      ]
    },
    {
      "cell_type": "code",
      "execution_count": null,
      "id": "2661b6a0",
      "metadata": {
        "id": "2661b6a0"
      },
      "outputs": [],
      "source": [
        "def contarPalabras(string):\n",
        "  palabras = string.split()\n",
        "  frecuencia = {}\n",
        "\n",
        "  for palabra in palabras:\n",
        "    palabra = palabra.lower()\n",
        "    if palabra in frecuencia:\n",
        "      frecuencia[palabra] += 1\n",
        "    else:\n",
        "      frecuencia[palabra] = 1\n",
        "\n",
        "  return frecuencia\n",
        "\n",
        "\n",
        "cad = input(\"Ingrese una string: \")\n",
        "resultado = contarPalabras(cad)\n",
        "print(\"Frecuencia de palabras: \", resultado)\n"
      ]
    },
    {
      "cell_type": "code",
      "execution_count": null,
      "id": "b8a8bd0a-2d66-4e54-90a0-6793f2818da9",
      "metadata": {
        "id": "b8a8bd0a-2d66-4e54-90a0-6793f2818da9"
      },
      "outputs": [],
      "source": []
    },
    {
      "cell_type": "markdown",
      "id": "a8a520af",
      "metadata": {
        "id": "a8a520af"
      },
      "source": [
        "## Depuración de errores\n",
        "\n",
        "En cada ejercicio corré el codigo, analizá el error en consola y corregilo"
      ]
    },
    {
      "cell_type": "markdown",
      "id": "3311f451",
      "metadata": {
        "id": "3311f451"
      },
      "source": [
        "### 3.3"
      ]
    },
    {
      "cell_type": "code",
      "execution_count": null,
      "id": "67458b41",
      "metadata": {
        "id": "67458b41"
      },
      "outputs": [],
      "source": [
        "base = input('Introduce la base imponible de la factura: ')\n",
        "print(aplica_iva(base, iva))\n",
        "\n",
        "def aplica_iva(base, iva = 21):\n",
        "    base = base * iva\n",
        "    return base"
      ]
    },
    {
      "cell_type": "code",
      "execution_count": 29,
      "id": "bc85d2fd",
      "metadata": {
        "id": "bc85d2fd",
        "colab": {
          "base_uri": "https://localhost:8080/"
        },
        "outputId": "487e9ad2-378d-49b6-c7fb-d69a6e5ae590"
      },
      "outputs": [
        {
          "output_type": "stream",
          "name": "stdout",
          "text": [
            "Introduce la base imponible de la factura: 10\n",
            "210.0\n"
          ]
        }
      ],
      "source": [
        "##EJERCICIO CORREGIDO\n",
        "def aplica_iva(base, iva = 21):\n",
        "    base = base * iva\n",
        "    return base\n",
        "\n",
        "base = float(input('Introduce la base imponible de la factura: '))\n",
        "print(aplica_iva(base))\n",
        "\n"
      ]
    },
    {
      "cell_type": "code",
      "execution_count": null,
      "id": "5a170cae-2f0d-47d7-968d-5942705d3307",
      "metadata": {
        "id": "5a170cae-2f0d-47d7-968d-5942705d3307"
      },
      "outputs": [],
      "source": []
    },
    {
      "cell_type": "markdown",
      "id": "7ba7523c",
      "metadata": {
        "id": "7ba7523c"
      },
      "source": [
        "### 3.4"
      ]
    },
    {
      "cell_type": "code",
      "execution_count": 30,
      "id": "7802da60",
      "metadata": {
        "id": "7802da60",
        "colab": {
          "base_uri": "https://localhost:8080/",
          "height": 314
        },
        "outputId": "28ae6c80-2cff-4492-bcc0-12677b0e634f"
      },
      "outputs": [
        {
          "output_type": "error",
          "ename": "KeyError",
          "evalue": "'Pablo'",
          "traceback": [
            "\u001b[0;31m---------------------------------------------------------------------------\u001b[0m",
            "\u001b[0;31mKeyError\u001b[0m                                  Traceback (most recent call last)",
            "\u001b[0;32m<ipython-input-30-362aece92263>\u001b[0m in \u001b[0;36m<cell line: 7>\u001b[0;34m()\u001b[0m\n\u001b[1;32m      5\u001b[0m     \u001b[0;32mreturn\u001b[0m \u001b[0mlistin\u001b[0m\u001b[0;34m[\u001b[0m\u001b[0musuario\u001b[0m\u001b[0;34m]\u001b[0m\u001b[0;34m\u001b[0m\u001b[0;34m\u001b[0m\u001b[0m\n\u001b[1;32m      6\u001b[0m \u001b[0;34m\u001b[0m\u001b[0m\n\u001b[0;32m----> 7\u001b[0;31m \u001b[0mprint\u001b[0m\u001b[0;34m(\u001b[0m\u001b[0melimina\u001b[0m\u001b[0;34m(\u001b[0m\u001b[0mlistin\u001b[0m\u001b[0;34m,\u001b[0m \u001b[0;34m'Pablo'\u001b[0m\u001b[0;34m)\u001b[0m\u001b[0;34m)\u001b[0m\u001b[0;34m\u001b[0m\u001b[0;34m\u001b[0m\u001b[0m\n\u001b[0m",
            "\u001b[0;32m<ipython-input-30-362aece92263>\u001b[0m in \u001b[0;36melimina\u001b[0;34m(listin, usuario)\u001b[0m\n\u001b[1;32m      2\u001b[0m \u001b[0;34m\u001b[0m\u001b[0m\n\u001b[1;32m      3\u001b[0m \u001b[0;32mdef\u001b[0m \u001b[0melimina\u001b[0m\u001b[0;34m(\u001b[0m\u001b[0mlistin\u001b[0m\u001b[0;34m,\u001b[0m \u001b[0musuario\u001b[0m\u001b[0;34m)\u001b[0m\u001b[0;34m:\u001b[0m\u001b[0;34m\u001b[0m\u001b[0;34m\u001b[0m\u001b[0m\n\u001b[0;32m----> 4\u001b[0;31m     \u001b[0;32mdel\u001b[0m \u001b[0mlistin\u001b[0m\u001b[0;34m[\u001b[0m\u001b[0musuario\u001b[0m\u001b[0;34m]\u001b[0m\u001b[0;34m\u001b[0m\u001b[0;34m\u001b[0m\u001b[0m\n\u001b[0m\u001b[1;32m      5\u001b[0m     \u001b[0;32mreturn\u001b[0m \u001b[0mlistin\u001b[0m\u001b[0;34m[\u001b[0m\u001b[0musuario\u001b[0m\u001b[0;34m]\u001b[0m\u001b[0;34m\u001b[0m\u001b[0;34m\u001b[0m\u001b[0m\n\u001b[1;32m      6\u001b[0m \u001b[0;34m\u001b[0m\u001b[0m\n",
            "\u001b[0;31mKeyError\u001b[0m: 'Pablo'"
          ]
        }
      ],
      "source": [
        "listin = {'Juan':123456789, 'Pedro':987654321}\n",
        "\n",
        "def elimina(listin, usuario):\n",
        "    del listin[usuario]\n",
        "    return listin[usuario]\n",
        "\n",
        "print(elimina(listin, 'Pablo'))"
      ]
    },
    {
      "cell_type": "code",
      "execution_count": 33,
      "id": "f89d2157",
      "metadata": {
        "id": "f89d2157",
        "colab": {
          "base_uri": "https://localhost:8080/"
        },
        "outputId": "cfe66605-2777-464f-f425-df7d9f22264a"
      },
      "outputs": [
        {
          "output_type": "stream",
          "name": "stdout",
          "text": [
            "El usuario 'Pablo' no existe en el listin.\n",
            "{'Juan': 123456789, 'Pedro': 987654321}\n"
          ]
        }
      ],
      "source": [
        "#EJERCICIO CORREGIDO\n",
        "listin = {'Juan':123456789, 'Pedro':987654321}\n",
        "\n",
        "def elimina(listin, usuario):\n",
        "  if usuario in listin:\n",
        "    del listin[usuario]\n",
        "  else:\n",
        "    print(f\"El usuario '{usuario}' no existe en el listin.\")\n",
        "elimina(listin, 'Pablo')\n",
        "print(listin)"
      ]
    },
    {
      "cell_type": "code",
      "execution_count": null,
      "id": "1efefc7b-1243-4eed-99ce-5ff147e27ba1",
      "metadata": {
        "id": "1efefc7b-1243-4eed-99ce-5ff147e27ba1"
      },
      "outputs": [],
      "source": []
    },
    {
      "cell_type": "code",
      "source": [],
      "metadata": {
        "id": "wav0RZ8LZTv9"
      },
      "id": "wav0RZ8LZTv9",
      "execution_count": null,
      "outputs": []
    }
  ],
  "metadata": {
    "colab": {
      "provenance": []
    },
    "kernelspec": {
      "display_name": "Python 3.9.12 ('base')",
      "language": "python",
      "name": "python3"
    },
    "language_info": {
      "codemirror_mode": {
        "name": "ipython",
        "version": 3
      },
      "file_extension": ".py",
      "mimetype": "text/x-python",
      "name": "python",
      "nbconvert_exporter": "python",
      "pygments_lexer": "ipython3",
      "version": "3.9.12"
    },
    "vscode": {
      "interpreter": {
        "hash": "2d90c038637108ac29aff4d22cdf99e3e2599f922ccc5532827d676edf9e0ab0"
      }
    }
  },
  "nbformat": 4,
  "nbformat_minor": 5
}